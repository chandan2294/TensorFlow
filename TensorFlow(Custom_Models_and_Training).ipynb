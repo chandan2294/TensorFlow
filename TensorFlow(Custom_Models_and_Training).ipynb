{
  "nbformat": 4,
  "nbformat_minor": 0,
  "metadata": {
    "colab": {
      "name": "TensorFlow (Custom Models and Training).ipynb",
      "provenance": [],
      "collapsed_sections": [],
      "authorship_tag": "ABX9TyPe6DD8xzp33j7zgLQeYEXI",
      "include_colab_link": true
    },
    "kernelspec": {
      "name": "python3",
      "display_name": "Python 3"
    }
  },
  "cells": [
    {
      "cell_type": "markdown",
      "metadata": {
        "id": "view-in-github",
        "colab_type": "text"
      },
      "source": [
        "<a href=\"https://colab.research.google.com/github/chandan2294/TensorFlow/blob/main/TensorFlow(Custom_Models_and_Training).ipynb\" target=\"_parent\"><img src=\"https://colab.research.google.com/assets/colab-badge.svg\" alt=\"Open In Colab\"/></a>"
      ]
    },
    {
      "cell_type": "markdown",
      "metadata": {
        "id": "Az5FVw6yNidK"
      },
      "source": [
        "**Index:**\n",
        "\n",
        "1. Overview\n",
        "2. TensorFlow\n",
        "  * Tensors and Operations\n",
        "  * Using keras.backend\n",
        "  * Tensors and NumPy\n",
        "  * Type Conversions\n",
        "3. Variables\n",
        "4. Other Data Structures\n",
        "  * Sparse tensors\n",
        "  * Tensor arrays\n",
        "  * Strings\n",
        "  * String arrays\n",
        "  * Ragged tensors\n",
        "  * Sets\n",
        "5. Customizing Models and Training Algorithms\n",
        "  * Custom Loss Function\n",
        "  * Saving/Loading Models with CUstom Objects\n",
        "6. Other Custom Functions\n",
        "7. Custom Metrics\n",
        "  * Streaming metrics\n",
        "8. Custom Layers\n",
        "9. Custom Models\n",
        "10. Losses and Models Based on Model Internals\n",
        "11. Computing Gradients with Autodiff\n",
        "12. Computing Gradients using Autodiff\n",
        "13. TensorFlow Functions\n",
        "  * TensorFlow Functions and Concrete Functions\n",
        "  * Exploring Function Definitions and Graphs\n",
        "  * How TensorFlow Function traces Python Functions to Extract their Computation Graphs\n",
        "  * Using Autograph to Capture Control Flow\n",
        "  * Handling Variables and Other Resources\n",
        "14. TensorFlow Functions\n",
        "15. Using TensorFlow Functions with tf.keras"
      ]
    },
    {
      "cell_type": "markdown",
      "metadata": {
        "id": "822h915HfTah"
      },
      "source": [
        "**Overview:**\n",
        "\n",
        "TensorFlow is a powerful library for numerical computation, particularly\n",
        "well suited and fine-tuned for large-scale Machine Learning (but you could use\n",
        "it for anything else that requires heavy computations).\n",
        "\n",
        "\n",
        "TensorFlow offers many more features built on top of these core features: the most\n",
        "important is of course tf.keras, but it also has data loading and preprocessing ops\n",
        "(tf.data, tf.io, etc.), image processing ops (tf.image), signal processing ops\n",
        "(tf.signal), and more."
      ]
    },
    {
      "cell_type": "code",
      "metadata": {
        "id": "fz545H7GTz1-"
      },
      "source": [
        "import sys\n",
        "assert sys.version_info >= (3, 5)\n",
        "\n",
        "#Scikit-Learn >= 0.20 is required\n",
        "import sklearn\n",
        "assert sklearn.__version__ >= \"0.20\"\n",
        "\n",
        "try:\n",
        "  %tensorflow_version 2.x\n",
        "except Exception:\n",
        "  pass\n",
        "\n",
        "#TensorFlow >= 2.0 is required\n",
        "import tensorflow as tf\n",
        "from tensorflow import keras\n",
        "assert tf.__version__ >= \"2.0\"\n",
        "\n",
        "#Common imports\n",
        "import numpy as np\n",
        "import os\n",
        "\n",
        "#To make this notebook's output stable across runs\n",
        "np.random.seed(42)\n",
        "tf.random.set_seed(42)\n",
        "\n",
        "#To plot pretty figures\n",
        "%matplotlib inline\n",
        "import matplotlib as mpl\n",
        "import matplotlib.pyplot as plt\n",
        "mpl.rc('axes', labelsize = 14)\n",
        "mpl.rc(\"xtick\", labelsize = 12)\n",
        "mpl.rc(\"ytick\", labelsize = 12)"
      ],
      "execution_count": 2,
      "outputs": []
    },
    {
      "cell_type": "markdown",
      "metadata": {
        "id": "BgPphPhZVjf7"
      },
      "source": [
        "# **TensorFlow**\n",
        "\n",
        "TensorFlow’s API revolves around tensors, which flow from operation to operation— hence the name TensorFlow. A tensor is very similar to a NumPy ndarray: it is usually\n",
        "a multidimensional array, but it can also hold a scalar (a simple value, such as 34). These tensors will be important when we create custom cost functions, custom metrics, custom layers, and more, so let’s see how to create and manipulate them.\n"
      ]
    },
    {
      "cell_type": "markdown",
      "metadata": {
        "id": "Cg--bd3TV3__"
      },
      "source": [
        "**Tensors and Operations**\n",
        "\n",
        "You can create a tensor with tf.constant(). For example, here is a tensor representing a matrix with two rows and three columns of floats:"
      ]
    },
    {
      "cell_type": "code",
      "metadata": {
        "id": "p1FQU9jeWHxL",
        "colab": {
          "base_uri": "https://localhost:8080/"
        },
        "outputId": "3ed6e125-0a62-47ea-a82f-8508780ee39e"
      },
      "source": [
        "tf.constant([[1., 2., 3.], [4., 5., 6.]]) #Matrix\n"
      ],
      "execution_count": 3,
      "outputs": [
        {
          "output_type": "execute_result",
          "data": {
            "text/plain": [
              "<tf.Tensor: shape=(2, 3), dtype=float32, numpy=\n",
              "array([[1., 2., 3.],\n",
              "       [4., 5., 6.]], dtype=float32)>"
            ]
          },
          "metadata": {
            "tags": []
          },
          "execution_count": 3
        }
      ]
    },
    {
      "cell_type": "code",
      "metadata": {
        "id": "-r07H5uyWVEz",
        "colab": {
          "base_uri": "https://localhost:8080/"
        },
        "outputId": "6e639cd7-d587-4945-eaf1-ea8ef27c2acc"
      },
      "source": [
        "tf.constant(42) #Scalar"
      ],
      "execution_count": 4,
      "outputs": [
        {
          "output_type": "execute_result",
          "data": {
            "text/plain": [
              "<tf.Tensor: shape=(), dtype=int32, numpy=42>"
            ]
          },
          "metadata": {
            "tags": []
          },
          "execution_count": 4
        }
      ]
    },
    {
      "cell_type": "markdown",
      "metadata": {
        "id": "3dZ-cwWIWZ5N"
      },
      "source": [
        "Just like an ndarray, a tf.Tensor has a shape and a data type (dtype):"
      ]
    },
    {
      "cell_type": "code",
      "metadata": {
        "id": "FWIDD2RfWhZI",
        "colab": {
          "base_uri": "https://localhost:8080/"
        },
        "outputId": "95670cbd-1d48-4371-8cf1-c0f4fb4818f1"
      },
      "source": [
        "t = tf.constant([[1., 2., 3.], [4., 5., 6.]])\n",
        "t.shape"
      ],
      "execution_count": 5,
      "outputs": [
        {
          "output_type": "execute_result",
          "data": {
            "text/plain": [
              "TensorShape([2, 3])"
            ]
          },
          "metadata": {
            "tags": []
          },
          "execution_count": 5
        }
      ]
    },
    {
      "cell_type": "code",
      "metadata": {
        "id": "93MOMqcfWp8M",
        "colab": {
          "base_uri": "https://localhost:8080/"
        },
        "outputId": "a1d22c65-34bd-4abb-919c-32d56ce2eb16"
      },
      "source": [
        "t.dtype"
      ],
      "execution_count": 6,
      "outputs": [
        {
          "output_type": "execute_result",
          "data": {
            "text/plain": [
              "tf.float32"
            ]
          },
          "metadata": {
            "tags": []
          },
          "execution_count": 6
        }
      ]
    },
    {
      "cell_type": "code",
      "metadata": {
        "id": "a8LwPOaxWs3X",
        "colab": {
          "base_uri": "https://localhost:8080/"
        },
        "outputId": "ff7a62c2-20ce-4c61-962c-c1d8b5c83dfe"
      },
      "source": [
        "a = tf.constant([[1, 2, 2], [4, 5, 4]])\n",
        "a.dtype"
      ],
      "execution_count": 7,
      "outputs": [
        {
          "output_type": "execute_result",
          "data": {
            "text/plain": [
              "tf.int32"
            ]
          },
          "metadata": {
            "tags": []
          },
          "execution_count": 7
        }
      ]
    },
    {
      "cell_type": "markdown",
      "metadata": {
        "id": "ekOz4NIrW3N1"
      },
      "source": [
        "Indexing works much like in NumPy:"
      ]
    },
    {
      "cell_type": "code",
      "metadata": {
        "id": "o5csxM8rW8EE",
        "colab": {
          "base_uri": "https://localhost:8080/"
        },
        "outputId": "844627b1-4e0e-426d-cb60-ae80679b994e"
      },
      "source": [
        "t"
      ],
      "execution_count": 8,
      "outputs": [
        {
          "output_type": "execute_result",
          "data": {
            "text/plain": [
              "<tf.Tensor: shape=(2, 3), dtype=float32, numpy=\n",
              "array([[1., 2., 3.],\n",
              "       [4., 5., 6.]], dtype=float32)>"
            ]
          },
          "metadata": {
            "tags": []
          },
          "execution_count": 8
        }
      ]
    },
    {
      "cell_type": "code",
      "metadata": {
        "id": "2Ce4fahfW_6B",
        "colab": {
          "base_uri": "https://localhost:8080/"
        },
        "outputId": "65ab6b5c-29ea-4f4f-f607-883cc116e8ba"
      },
      "source": [
        "#All rows and all columns except first\n",
        "t[:, 1:]"
      ],
      "execution_count": 9,
      "outputs": [
        {
          "output_type": "execute_result",
          "data": {
            "text/plain": [
              "<tf.Tensor: shape=(2, 2), dtype=float32, numpy=\n",
              "array([[2., 3.],\n",
              "       [5., 6.]], dtype=float32)>"
            ]
          },
          "metadata": {
            "tags": []
          },
          "execution_count": 9
        }
      ]
    },
    {
      "cell_type": "code",
      "metadata": {
        "id": "98MM8lfjXIZh",
        "colab": {
          "base_uri": "https://localhost:8080/"
        },
        "outputId": "ac999cca-3c88-488c-9ff2-ef39bfd71cef"
      },
      "source": [
        "t[..., 1, tf.newaxis]"
      ],
      "execution_count": 10,
      "outputs": [
        {
          "output_type": "execute_result",
          "data": {
            "text/plain": [
              "<tf.Tensor: shape=(2, 1), dtype=float32, numpy=\n",
              "array([[2.],\n",
              "       [5.]], dtype=float32)>"
            ]
          },
          "metadata": {
            "tags": []
          },
          "execution_count": 10
        }
      ]
    },
    {
      "cell_type": "code",
      "metadata": {
        "id": "ODSrx46fXRIk",
        "colab": {
          "base_uri": "https://localhost:8080/"
        },
        "outputId": "6241c184-1e80-4e0f-9539-8ffc4523a68e"
      },
      "source": [
        "t[..., 2, tf.newaxis]"
      ],
      "execution_count": 11,
      "outputs": [
        {
          "output_type": "execute_result",
          "data": {
            "text/plain": [
              "<tf.Tensor: shape=(2, 1), dtype=float32, numpy=\n",
              "array([[3.],\n",
              "       [6.]], dtype=float32)>"
            ]
          },
          "metadata": {
            "tags": []
          },
          "execution_count": 11
        }
      ]
    },
    {
      "cell_type": "code",
      "metadata": {
        "id": "YD4Vn6mbXjd2",
        "colab": {
          "base_uri": "https://localhost:8080/"
        },
        "outputId": "7a507cc3-d453-4da6-9178-d747e959352e"
      },
      "source": [
        "t[1, ..., tf.newaxis]"
      ],
      "execution_count": 12,
      "outputs": [
        {
          "output_type": "execute_result",
          "data": {
            "text/plain": [
              "<tf.Tensor: shape=(3, 1), dtype=float32, numpy=\n",
              "array([[4.],\n",
              "       [5.],\n",
              "       [6.]], dtype=float32)>"
            ]
          },
          "metadata": {
            "tags": []
          },
          "execution_count": 12
        }
      ]
    },
    {
      "cell_type": "markdown",
      "metadata": {
        "id": "g9BLuLZKZU4_"
      },
      "source": [
        "Most importantly, all sorts of tensor operations are available:"
      ]
    },
    {
      "cell_type": "code",
      "metadata": {
        "id": "Px9LTRCxZai8",
        "colab": {
          "base_uri": "https://localhost:8080/"
        },
        "outputId": "d5a15dc2-25b1-4039-9dc8-f27bef3cc9af"
      },
      "source": [
        "t"
      ],
      "execution_count": 13,
      "outputs": [
        {
          "output_type": "execute_result",
          "data": {
            "text/plain": [
              "<tf.Tensor: shape=(2, 3), dtype=float32, numpy=\n",
              "array([[1., 2., 3.],\n",
              "       [4., 5., 6.]], dtype=float32)>"
            ]
          },
          "metadata": {
            "tags": []
          },
          "execution_count": 13
        }
      ]
    },
    {
      "cell_type": "code",
      "metadata": {
        "id": "LFhAmPfBZbxo",
        "colab": {
          "base_uri": "https://localhost:8080/"
        },
        "outputId": "7adae6e6-4b12-40b3-b3c2-c85b3665fc54"
      },
      "source": [
        "t + 10"
      ],
      "execution_count": 14,
      "outputs": [
        {
          "output_type": "execute_result",
          "data": {
            "text/plain": [
              "<tf.Tensor: shape=(2, 3), dtype=float32, numpy=\n",
              "array([[11., 12., 13.],\n",
              "       [14., 15., 16.]], dtype=float32)>"
            ]
          },
          "metadata": {
            "tags": []
          },
          "execution_count": 14
        }
      ]
    },
    {
      "cell_type": "code",
      "metadata": {
        "id": "aCEX5kfuZvgA",
        "colab": {
          "base_uri": "https://localhost:8080/"
        },
        "outputId": "d5a9e0ba-e374-434d-917b-7e3d16d02b32"
      },
      "source": [
        "tf.add(t, 10) #Same as above"
      ],
      "execution_count": 15,
      "outputs": [
        {
          "output_type": "execute_result",
          "data": {
            "text/plain": [
              "<tf.Tensor: shape=(2, 3), dtype=float32, numpy=\n",
              "array([[11., 12., 13.],\n",
              "       [14., 15., 16.]], dtype=float32)>"
            ]
          },
          "metadata": {
            "tags": []
          },
          "execution_count": 15
        }
      ]
    },
    {
      "cell_type": "code",
      "metadata": {
        "id": "PwWByYosZidu",
        "colab": {
          "base_uri": "https://localhost:8080/"
        },
        "outputId": "db88f663-695d-4e3f-863d-bb4f7290cf95"
      },
      "source": [
        "tf.square(t)"
      ],
      "execution_count": 16,
      "outputs": [
        {
          "output_type": "execute_result",
          "data": {
            "text/plain": [
              "<tf.Tensor: shape=(2, 3), dtype=float32, numpy=\n",
              "array([[ 1.,  4.,  9.],\n",
              "       [16., 25., 36.]], dtype=float32)>"
            ]
          },
          "metadata": {
            "tags": []
          },
          "execution_count": 16
        }
      ]
    },
    {
      "cell_type": "code",
      "metadata": {
        "id": "UyIAL0m8Zl3U",
        "colab": {
          "base_uri": "https://localhost:8080/"
        },
        "outputId": "515a4540-b209-469a-ca78-b3591f9c3c7f"
      },
      "source": [
        "tf.multiply(t, 2)"
      ],
      "execution_count": 17,
      "outputs": [
        {
          "output_type": "execute_result",
          "data": {
            "text/plain": [
              "<tf.Tensor: shape=(2, 3), dtype=float32, numpy=\n",
              "array([[ 2.,  4.,  6.],\n",
              "       [ 8., 10., 12.]], dtype=float32)>"
            ]
          },
          "metadata": {
            "tags": []
          },
          "execution_count": 17
        }
      ]
    },
    {
      "cell_type": "code",
      "metadata": {
        "id": "QrMHn1oXkARD",
        "colab": {
          "base_uri": "https://localhost:8080/"
        },
        "outputId": "1816dc88-c739-4f92-a7db-e2188c974b68"
      },
      "source": [
        "tf.subtract(t, 6)"
      ],
      "execution_count": 18,
      "outputs": [
        {
          "output_type": "execute_result",
          "data": {
            "text/plain": [
              "<tf.Tensor: shape=(2, 3), dtype=float32, numpy=\n",
              "array([[-5., -4., -3.],\n",
              "       [-2., -1.,  0.]], dtype=float32)>"
            ]
          },
          "metadata": {
            "tags": []
          },
          "execution_count": 18
        }
      ]
    },
    {
      "cell_type": "code",
      "metadata": {
        "id": "rMGXfXKmkExg",
        "colab": {
          "base_uri": "https://localhost:8080/"
        },
        "outputId": "9893a676-d3b9-4dae-c815-5b7d20a3d552"
      },
      "source": [
        "tf.exp(t, 2)"
      ],
      "execution_count": 19,
      "outputs": [
        {
          "output_type": "execute_result",
          "data": {
            "text/plain": [
              "<tf.Tensor: shape=(2, 3), dtype=float32, numpy=\n",
              "array([[  2.7182817,   7.389056 ,  20.085537 ],\n",
              "       [ 54.59815  , 148.41316  , 403.4288   ]], dtype=float32)>"
            ]
          },
          "metadata": {
            "tags": []
          },
          "execution_count": 19
        }
      ]
    },
    {
      "cell_type": "markdown",
      "metadata": {
        "id": "D2lV7ivPko3z"
      },
      "source": [
        "**Using keras.backend**\n",
        "\n",
        "The Keras API has its own low-level API, located in keras.backend. It includes functions\n",
        "like square(), exp(), and sqrt(). In tf.keras, these functions generally just call\n",
        "the corresponding TensorFlow operations. If you want to write code that will be\n",
        "portable to other Keras implementations, you should use these Keras functions. However,\n",
        "they only cover a subset of all functions available in TensorFlow.\n"
      ]
    },
    {
      "cell_type": "code",
      "metadata": {
        "id": "q6X1FkA-lEFI",
        "colab": {
          "base_uri": "https://localhost:8080/"
        },
        "outputId": "f915be46-6d7a-4a15-b8e8-0d8106dd94f4"
      },
      "source": [
        "t"
      ],
      "execution_count": 20,
      "outputs": [
        {
          "output_type": "execute_result",
          "data": {
            "text/plain": [
              "<tf.Tensor: shape=(2, 3), dtype=float32, numpy=\n",
              "array([[1., 2., 3.],\n",
              "       [4., 5., 6.]], dtype=float32)>"
            ]
          },
          "metadata": {
            "tags": []
          },
          "execution_count": 20
        }
      ]
    },
    {
      "cell_type": "code",
      "metadata": {
        "id": "ZmGTv2NkkoKS",
        "colab": {
          "base_uri": "https://localhost:8080/"
        },
        "outputId": "88354fc4-397c-4928-84a5-3a06e589d0ff"
      },
      "source": [
        "K = keras.backend\n",
        "K.square(K.transpose(t)) + 10"
      ],
      "execution_count": 21,
      "outputs": [
        {
          "output_type": "execute_result",
          "data": {
            "text/plain": [
              "<tf.Tensor: shape=(3, 2), dtype=float32, numpy=\n",
              "array([[11., 26.],\n",
              "       [14., 35.],\n",
              "       [19., 46.]], dtype=float32)>"
            ]
          },
          "metadata": {
            "tags": []
          },
          "execution_count": 21
        }
      ]
    },
    {
      "cell_type": "markdown",
      "metadata": {
        "id": "lv8VbVTqlMLs"
      },
      "source": [
        "**Tensors and NumPy**\n",
        "\n",
        "Tensors play nice with NumPy: you can create a tensor from NumPy array, and vice versa. You can even apply TensorFlow operations to NumPy arrays amd NumPy operations to tensors:"
      ]
    },
    {
      "cell_type": "code",
      "metadata": {
        "id": "he90c7ZKmGlS",
        "colab": {
          "base_uri": "https://localhost:8080/"
        },
        "outputId": "f435762a-1270-4231-803f-f5dedd070cfb"
      },
      "source": [
        "a = np.array([2, 3, 5])\n",
        "a"
      ],
      "execution_count": 22,
      "outputs": [
        {
          "output_type": "execute_result",
          "data": {
            "text/plain": [
              "array([2, 3, 5])"
            ]
          },
          "metadata": {
            "tags": []
          },
          "execution_count": 22
        }
      ]
    },
    {
      "cell_type": "code",
      "metadata": {
        "id": "W_bHb6EumKG3",
        "colab": {
          "base_uri": "https://localhost:8080/"
        },
        "outputId": "2f6acef0-7598-44b0-cc05-1a71fee4f0ce"
      },
      "source": [
        "tf.constant(a)"
      ],
      "execution_count": 23,
      "outputs": [
        {
          "output_type": "execute_result",
          "data": {
            "text/plain": [
              "<tf.Tensor: shape=(3,), dtype=int64, numpy=array([2, 3, 5])>"
            ]
          },
          "metadata": {
            "tags": []
          },
          "execution_count": 23
        }
      ]
    },
    {
      "cell_type": "code",
      "metadata": {
        "id": "O50fYtDemQ_A",
        "colab": {
          "base_uri": "https://localhost:8080/"
        },
        "outputId": "a0d6f76c-0370-4da4-cb1e-2d3e2579eb20"
      },
      "source": [
        "t.numpy() #or np.array(t)"
      ],
      "execution_count": 24,
      "outputs": [
        {
          "output_type": "execute_result",
          "data": {
            "text/plain": [
              "array([[1., 2., 3.],\n",
              "       [4., 5., 6.]], dtype=float32)"
            ]
          },
          "metadata": {
            "tags": []
          },
          "execution_count": 24
        }
      ]
    },
    {
      "cell_type": "code",
      "metadata": {
        "id": "5nWRJEZPmWbn",
        "colab": {
          "base_uri": "https://localhost:8080/"
        },
        "outputId": "6b346690-3117-4eb5-cafa-be4361eae724"
      },
      "source": [
        "np.array(t)"
      ],
      "execution_count": 25,
      "outputs": [
        {
          "output_type": "execute_result",
          "data": {
            "text/plain": [
              "array([[1., 2., 3.],\n",
              "       [4., 5., 6.]], dtype=float32)"
            ]
          },
          "metadata": {
            "tags": []
          },
          "execution_count": 25
        }
      ]
    },
    {
      "cell_type": "code",
      "metadata": {
        "id": "Gz_rJ2w4mYoP",
        "colab": {
          "base_uri": "https://localhost:8080/"
        },
        "outputId": "cbb995d2-f2cc-4630-fac9-56efe4a022e8"
      },
      "source": [
        "tf.square(a)"
      ],
      "execution_count": 26,
      "outputs": [
        {
          "output_type": "execute_result",
          "data": {
            "text/plain": [
              "<tf.Tensor: shape=(3,), dtype=int64, numpy=array([ 4,  9, 25])>"
            ]
          },
          "metadata": {
            "tags": []
          },
          "execution_count": 26
        }
      ]
    },
    {
      "cell_type": "code",
      "metadata": {
        "id": "VsPNQfYZmcmN",
        "colab": {
          "base_uri": "https://localhost:8080/"
        },
        "outputId": "fd7a2b26-d789-4cc8-89c7-412731e22029"
      },
      "source": [
        "np.square(t)"
      ],
      "execution_count": 27,
      "outputs": [
        {
          "output_type": "execute_result",
          "data": {
            "text/plain": [
              "array([[ 1.,  4.,  9.],\n",
              "       [16., 25., 36.]], dtype=float32)"
            ]
          },
          "metadata": {
            "tags": []
          },
          "execution_count": 27
        }
      ]
    },
    {
      "cell_type": "markdown",
      "metadata": {
        "id": "7U4pazRGmmtk"
      },
      "source": [
        "Notice that NumPy uses 64-bit precision by default, while Tensor‐\n",
        "Flow uses 32-bit. This is because 32-bit precision is generally more\n",
        "than enough for neural networks, plus it runs faster and uses less\n",
        "RAM. So when you create a tensor from a NumPy array, make sure\n",
        "to set dtype=tf.float32."
      ]
    },
    {
      "cell_type": "markdown",
      "metadata": {
        "id": "S12Lr9yTmogP"
      },
      "source": [
        "**Type Conversions**\n",
        "\n",
        "Type conversions can significantly hurt performance, and they can easily go unnoticed when they are done automatically. To avoid this, Tensorflow does not perform any type of conversions automatically: it just raises an Exception if you try to execute an operation on tensors with incompatible types. For example, you cannot add a float tensor and an integer tensor, and you cannot even add a 32-bit float and 64-bit float:\n",
        " "
      ]
    },
    {
      "cell_type": "code",
      "metadata": {
        "colab": {
          "base_uri": "https://localhost:8080/"
        },
        "id": "UUFZI0YNmCgk",
        "outputId": "2278b0bf-2063-440b-b8ed-786d3a02712a"
      },
      "source": [
        "try:\n",
        "  tf.constant(2.0) + tf.constant(40)\n",
        "except tf.errors.InvalidArgumentError as ex:\n",
        "  print(ex)"
      ],
      "execution_count": 28,
      "outputs": [
        {
          "output_type": "stream",
          "text": [
            "cannot compute AddV2 as input #1(zero-based) was expected to be a float tensor but is a int32 tensor [Op:AddV2]\n"
          ],
          "name": "stdout"
        }
      ]
    },
    {
      "cell_type": "code",
      "metadata": {
        "colab": {
          "base_uri": "https://localhost:8080/"
        },
        "id": "fmYr5SwWmK2R",
        "outputId": "d94e52cd-1176-4230-e6ee-6e3c474f3894"
      },
      "source": [
        "try:\n",
        "  tf.constant(2.) + tf.constant(40., dtype=tf.float64)\n",
        "except tf.errors.InvalidArgumentError as ex:\n",
        "  print(ex)"
      ],
      "execution_count": 29,
      "outputs": [
        {
          "output_type": "stream",
          "text": [
            "cannot compute AddV2 as input #1(zero-based) was expected to be a float tensor but is a double tensor [Op:AddV2]\n"
          ],
          "name": "stdout"
        }
      ]
    },
    {
      "cell_type": "markdown",
      "metadata": {
        "id": "hNtmYUncmW0Z"
      },
      "source": [
        "You can use tf.cast() when you really need to convert types:"
      ]
    },
    {
      "cell_type": "code",
      "metadata": {
        "colab": {
          "base_uri": "https://localhost:8080/"
        },
        "id": "P5V_ZtJhmddf",
        "outputId": "2d1f6fd1-74d2-408a-ce57-1bb2566df9ef"
      },
      "source": [
        "t2 = tf.constant(40., dtype=tf.float64)\n",
        "tf.constant(2.0) + tf.cast(t2, tf.float32)"
      ],
      "execution_count": 30,
      "outputs": [
        {
          "output_type": "execute_result",
          "data": {
            "text/plain": [
              "<tf.Tensor: shape=(), dtype=float32, numpy=42.0>"
            ]
          },
          "metadata": {
            "tags": []
          },
          "execution_count": 30
        }
      ]
    },
    {
      "cell_type": "markdown",
      "metadata": {
        "id": "0ffFnhiUmrJ5"
      },
      "source": [
        "# **Variables**\n",
        "\n",
        "The tf.Tensor values we've seen so far are immutable: you cannot modify them. This means that we cannot use regular tensors to implement weights in a neural network, since they need to be tweaked by backpropagation. Plus, other parameters may also need to change over time. What we need is ```tf.Variable```.\n",
        "\n",
        "\n"
      ]
    },
    {
      "cell_type": "code",
      "metadata": {
        "colab": {
          "base_uri": "https://localhost:8080/"
        },
        "id": "53qDfITencam",
        "outputId": "f4f4266d-b3a9-4cb0-c017-e313dd31d958"
      },
      "source": [
        "v = tf.Variable([[1., 2., 3.], [4., 5., 6.]])\n",
        "v"
      ],
      "execution_count": 31,
      "outputs": [
        {
          "output_type": "execute_result",
          "data": {
            "text/plain": [
              "<tf.Variable 'Variable:0' shape=(2, 3) dtype=float32, numpy=\n",
              "array([[1., 2., 3.],\n",
              "       [4., 5., 6.]], dtype=float32)>"
            ]
          },
          "metadata": {
            "tags": []
          },
          "execution_count": 31
        }
      ]
    },
    {
      "cell_type": "markdown",
      "metadata": {
        "id": "UyfiQNwDnn_Y"
      },
      "source": [
        "A ```tf.Variable``` acts much like a ```tf.Tensor```: you can perform the same operations with it, it plays nicely with NumPy as well."
      ]
    },
    {
      "cell_type": "code",
      "metadata": {
        "colab": {
          "base_uri": "https://localhost:8080/"
        },
        "id": "nyTjo94Nn2Gj",
        "outputId": "8a1a16a1-794f-4ff8-8dde-de8fa4ed32cb"
      },
      "source": [
        "v.assign(2*v)"
      ],
      "execution_count": 32,
      "outputs": [
        {
          "output_type": "execute_result",
          "data": {
            "text/plain": [
              "<tf.Variable 'UnreadVariable' shape=(2, 3) dtype=float32, numpy=\n",
              "array([[ 2.,  4.,  6.],\n",
              "       [ 8., 10., 12.]], dtype=float32)>"
            ]
          },
          "metadata": {
            "tags": []
          },
          "execution_count": 32
        }
      ]
    },
    {
      "cell_type": "code",
      "metadata": {
        "colab": {
          "base_uri": "https://localhost:8080/"
        },
        "id": "d9sYbFl4o03i",
        "outputId": "8d088271-46b9-448b-bacb-2a448072c6b9"
      },
      "source": [
        "v[0, 1].assign(42) #Assigning the value 42 in row 0 and column 1"
      ],
      "execution_count": 33,
      "outputs": [
        {
          "output_type": "execute_result",
          "data": {
            "text/plain": [
              "<tf.Variable 'UnreadVariable' shape=(2, 3) dtype=float32, numpy=\n",
              "array([[ 2., 42.,  6.],\n",
              "       [ 8., 10., 12.]], dtype=float32)>"
            ]
          },
          "metadata": {
            "tags": []
          },
          "execution_count": 33
        }
      ]
    },
    {
      "cell_type": "code",
      "metadata": {
        "colab": {
          "base_uri": "https://localhost:8080/"
        },
        "id": "at2ELaOLo-5C",
        "outputId": "e8647ab2-a581-4abc-eaba-89e7584cde05"
      },
      "source": [
        "v[:, 2].assign([0., 1.])"
      ],
      "execution_count": 34,
      "outputs": [
        {
          "output_type": "execute_result",
          "data": {
            "text/plain": [
              "<tf.Variable 'UnreadVariable' shape=(2, 3) dtype=float32, numpy=\n",
              "array([[ 2., 42.,  0.],\n",
              "       [ 8., 10.,  1.]], dtype=float32)>"
            ]
          },
          "metadata": {
            "tags": []
          },
          "execution_count": 34
        }
      ]
    },
    {
      "cell_type": "code",
      "metadata": {
        "colab": {
          "base_uri": "https://localhost:8080/"
        },
        "id": "Ww5ov5ejpG5_",
        "outputId": "c1676414-7e25-48d4-a2cb-f2f53eb08ca7"
      },
      "source": [
        "try:\n",
        "  v[1] = [7., 8., 9.]\n",
        "except TypeError as ex:\n",
        "  print(ex)"
      ],
      "execution_count": 35,
      "outputs": [
        {
          "output_type": "stream",
          "text": [
            "'ResourceVariable' object does not support item assignment\n"
          ],
          "name": "stdout"
        }
      ]
    },
    {
      "cell_type": "code",
      "metadata": {
        "colab": {
          "base_uri": "https://localhost:8080/"
        },
        "id": "tnwkYqcKpT4X",
        "outputId": "42918de5-8854-4694-97e1-ea0315828a5c"
      },
      "source": [
        "v.scatter_nd_update(indices=[[0, 0], [1, 2]],\n",
        "                    updates = [100, 200])"
      ],
      "execution_count": 36,
      "outputs": [
        {
          "output_type": "execute_result",
          "data": {
            "text/plain": [
              "<tf.Variable 'UnreadVariable' shape=(2, 3) dtype=float32, numpy=\n",
              "array([[100.,  42.,   0.],\n",
              "       [  8.,  10., 200.]], dtype=float32)>"
            ]
          },
          "metadata": {
            "tags": []
          },
          "execution_count": 36
        }
      ]
    },
    {
      "cell_type": "code",
      "metadata": {
        "colab": {
          "base_uri": "https://localhost:8080/"
        },
        "id": "HiNgvyh9piZn",
        "outputId": "97267abc-0d3d-4d39-e79a-78b90e144419"
      },
      "source": [
        "sparse_delta = tf.IndexedSlices(values=[[1., 2., 3.], [4., 5., 6.]], \n",
        "                              indices=[1, 0])\n",
        "v.scatter_update(sparse_delta)"
      ],
      "execution_count": 37,
      "outputs": [
        {
          "output_type": "execute_result",
          "data": {
            "text/plain": [
              "<tf.Variable 'UnreadVariable' shape=(2, 3) dtype=float32, numpy=\n",
              "array([[4., 5., 6.],\n",
              "       [1., 2., 3.]], dtype=float32)>"
            ]
          },
          "metadata": {
            "tags": []
          },
          "execution_count": 37
        }
      ]
    },
    {
      "cell_type": "markdown",
      "metadata": {
        "id": "gl5V7gLEqQQl"
      },
      "source": [
        "# **Other Data Structures:**\n",
        "\n",
        "* *Sparse tensors (```tf.SparseTensor```)*: Efficiently represent tensors containing mostly zeros. The tf.sparse package\n",
        "contains operations for sparse tensors."
      ]
    },
    {
      "cell_type": "code",
      "metadata": {
        "id": "xK2t18L5p-N6"
      },
      "source": [
        "s = tf.SparseTensor(indices=[[0, 1], [1, 0], [2, 3]],\n",
        "                values=[1., 2., 3.],\n",
        "                dense_shape=[3, 4])"
      ],
      "execution_count": 38,
      "outputs": []
    },
    {
      "cell_type": "code",
      "metadata": {
        "colab": {
          "base_uri": "https://localhost:8080/"
        },
        "id": "kwc1tBNDqxJo",
        "outputId": "e8006625-63cd-41b2-e25b-0393a906de48"
      },
      "source": [
        "print(s)"
      ],
      "execution_count": 39,
      "outputs": [
        {
          "output_type": "stream",
          "text": [
            "SparseTensor(indices=tf.Tensor(\n",
            "[[0 1]\n",
            " [1 0]\n",
            " [2 3]], shape=(3, 2), dtype=int64), values=tf.Tensor([1. 2. 3.], shape=(3,), dtype=float32), dense_shape=tf.Tensor([3 4], shape=(2,), dtype=int64))\n"
          ],
          "name": "stdout"
        }
      ]
    },
    {
      "cell_type": "code",
      "metadata": {
        "colab": {
          "base_uri": "https://localhost:8080/"
        },
        "id": "SfPZ8bPbq4ZX",
        "outputId": "7c02da38-2f5f-476b-f9ad-b69a0d77610a"
      },
      "source": [
        "tf.sparse.to_dense(s)"
      ],
      "execution_count": 40,
      "outputs": [
        {
          "output_type": "execute_result",
          "data": {
            "text/plain": [
              "<tf.Tensor: shape=(3, 4), dtype=float32, numpy=\n",
              "array([[0., 1., 0., 0.],\n",
              "       [2., 0., 0., 0.],\n",
              "       [0., 0., 0., 3.]], dtype=float32)>"
            ]
          },
          "metadata": {
            "tags": []
          },
          "execution_count": 40
        }
      ]
    },
    {
      "cell_type": "code",
      "metadata": {
        "id": "HOWwY0nKrHL0"
      },
      "source": [
        "s2 = s*2.0"
      ],
      "execution_count": 41,
      "outputs": []
    },
    {
      "cell_type": "code",
      "metadata": {
        "colab": {
          "base_uri": "https://localhost:8080/"
        },
        "id": "1vNqJP1krKLx",
        "outputId": "0ddb9879-a81c-4a36-a3af-1b24e30403d5"
      },
      "source": [
        "try:\n",
        "  s3 = s + 1\n",
        "except TypeError as ex:\n",
        "  print(ex)"
      ],
      "execution_count": 42,
      "outputs": [
        {
          "output_type": "stream",
          "text": [
            "unsupported operand type(s) for +: 'SparseTensor' and 'int'\n"
          ],
          "name": "stdout"
        }
      ]
    },
    {
      "cell_type": "code",
      "metadata": {
        "colab": {
          "base_uri": "https://localhost:8080/"
        },
        "id": "pJebI4f0rWwl",
        "outputId": "f78b6ac5-42e8-41d0-8dec-ac96633bfa54"
      },
      "source": [
        "s4 = tf.constant([[10., 20.], [30., 40.], [50., 60.], [70., 80.]])\n",
        "tf.sparse.sparse_dense_matmul(s, s4)"
      ],
      "execution_count": 43,
      "outputs": [
        {
          "output_type": "execute_result",
          "data": {
            "text/plain": [
              "<tf.Tensor: shape=(3, 2), dtype=float32, numpy=\n",
              "array([[ 30.,  40.],\n",
              "       [ 20.,  40.],\n",
              "       [210., 240.]], dtype=float32)>"
            ]
          },
          "metadata": {
            "tags": []
          },
          "execution_count": 43
        }
      ]
    },
    {
      "cell_type": "code",
      "metadata": {
        "colab": {
          "base_uri": "https://localhost:8080/"
        },
        "id": "rKU8MULQrsqr",
        "outputId": "c3f965d4-a3f3-46e9-b807-314f14cf38f1"
      },
      "source": [
        "s5 = tf.SparseTensor(indices=[[0, 2], [0, 1]], \n",
        "                     values = [1., 2.],\n",
        "                     dense_shape=[3, 4])\n",
        "print(s5)"
      ],
      "execution_count": 44,
      "outputs": [
        {
          "output_type": "stream",
          "text": [
            "SparseTensor(indices=tf.Tensor(\n",
            "[[0 2]\n",
            " [0 1]], shape=(2, 2), dtype=int64), values=tf.Tensor([1. 2.], shape=(2,), dtype=float32), dense_shape=tf.Tensor([3 4], shape=(2,), dtype=int64))\n"
          ],
          "name": "stdout"
        }
      ]
    },
    {
      "cell_type": "code",
      "metadata": {
        "colab": {
          "base_uri": "https://localhost:8080/"
        },
        "id": "pBSFlkvfsFWN",
        "outputId": "f538307b-da69-4814-9aad-d46de1870d47"
      },
      "source": [
        "try:\n",
        "  tf.sparse.to_dense(s5)\n",
        "except tf.errors.InvalidArgumentError as ex:\n",
        "  print(ex)"
      ],
      "execution_count": 45,
      "outputs": [
        {
          "output_type": "stream",
          "text": [
            "indices[1] = [0,1] is out of order. Many sparse ops require sorted indices.\n",
            "    Use `tf.sparse.reorder` to create a correctly ordered copy.\n",
            "\n",
            " [Op:SparseToDense]\n"
          ],
          "name": "stdout"
        }
      ]
    },
    {
      "cell_type": "code",
      "metadata": {
        "colab": {
          "base_uri": "https://localhost:8080/"
        },
        "id": "b2xhUQu-sQPI",
        "outputId": "2d5fd5a5-101d-4cee-e654-b6cfebd68d5f"
      },
      "source": [
        "s6 = tf.sparse.reorder(s5)\n",
        "tf.sparse.to_dense(s6)"
      ],
      "execution_count": 46,
      "outputs": [
        {
          "output_type": "execute_result",
          "data": {
            "text/plain": [
              "<tf.Tensor: shape=(3, 4), dtype=float32, numpy=\n",
              "array([[0., 2., 1., 0.],\n",
              "       [0., 0., 0., 0.],\n",
              "       [0., 0., 0., 0.]], dtype=float32)>"
            ]
          },
          "metadata": {
            "tags": []
          },
          "execution_count": 46
        }
      ]
    },
    {
      "cell_type": "markdown",
      "metadata": {
        "id": "kmhCYeFSse9T"
      },
      "source": [
        "* *Tensor arrays (```tf.TensorArray```)*: Are lists of tensors. They have a fixed size by default but can optionally be made\n",
        "dynamic. All tensors they contain must have the same shape and data type."
      ]
    },
    {
      "cell_type": "code",
      "metadata": {
        "id": "tSX9xH5NsrH-"
      },
      "source": [
        "array = tf.TensorArray(dtype=tf.float32, size=3)\n",
        "array = array.write(0, tf.constant([1., 2.]))\n",
        "array = array.write(1, tf.constant([3., 6.]))\n",
        "array = array.write(2, tf.constant([8., 2.]))"
      ],
      "execution_count": 47,
      "outputs": []
    },
    {
      "cell_type": "code",
      "metadata": {
        "colab": {
          "base_uri": "https://localhost:8080/"
        },
        "id": "uhOwybm1tJzS",
        "outputId": "0b668b80-7723-417f-c868-256583bd9209"
      },
      "source": [
        "array.read(1)"
      ],
      "execution_count": 48,
      "outputs": [
        {
          "output_type": "execute_result",
          "data": {
            "text/plain": [
              "<tf.Tensor: shape=(2,), dtype=float32, numpy=array([3., 6.], dtype=float32)>"
            ]
          },
          "metadata": {
            "tags": []
          },
          "execution_count": 48
        }
      ]
    },
    {
      "cell_type": "code",
      "metadata": {
        "colab": {
          "base_uri": "https://localhost:8080/"
        },
        "id": "9_E6zRjjtMIi",
        "outputId": "8b4e777f-219d-4bd6-992d-e6b8f6d56e67"
      },
      "source": [
        "array.read(2)"
      ],
      "execution_count": 49,
      "outputs": [
        {
          "output_type": "execute_result",
          "data": {
            "text/plain": [
              "<tf.Tensor: shape=(2,), dtype=float32, numpy=array([8., 2.], dtype=float32)>"
            ]
          },
          "metadata": {
            "tags": []
          },
          "execution_count": 49
        }
      ]
    },
    {
      "cell_type": "code",
      "metadata": {
        "colab": {
          "base_uri": "https://localhost:8080/"
        },
        "id": "4u4SwhvDtOO-",
        "outputId": "e623eb4b-a2ff-418f-a89d-3f7d0795876f"
      },
      "source": [
        "array.stack()"
      ],
      "execution_count": 50,
      "outputs": [
        {
          "output_type": "execute_result",
          "data": {
            "text/plain": [
              "<tf.Tensor: shape=(3, 2), dtype=float32, numpy=\n",
              "array([[1., 2.],\n",
              "       [0., 0.],\n",
              "       [0., 0.]], dtype=float32)>"
            ]
          },
          "metadata": {
            "tags": []
          },
          "execution_count": 50
        }
      ]
    },
    {
      "cell_type": "code",
      "metadata": {
        "colab": {
          "base_uri": "https://localhost:8080/"
        },
        "id": "QNzekFKqthpj",
        "outputId": "c15cd2ef-66c3-4df9-89fd-45c78795c9bd"
      },
      "source": [
        "mean, variance = tf.nn.moments(array.stack(), axes = 0)\n",
        "mean"
      ],
      "execution_count": 51,
      "outputs": [
        {
          "output_type": "execute_result",
          "data": {
            "text/plain": [
              "<tf.Tensor: shape=(2,), dtype=float32, numpy=array([0.33333334, 0.6666667 ], dtype=float32)>"
            ]
          },
          "metadata": {
            "tags": []
          },
          "execution_count": 51
        }
      ]
    },
    {
      "cell_type": "code",
      "metadata": {
        "colab": {
          "base_uri": "https://localhost:8080/"
        },
        "id": "CBjbvGuVtqjl",
        "outputId": "076d519e-6adf-4b3a-e132-45174a306575"
      },
      "source": [
        "variance"
      ],
      "execution_count": 52,
      "outputs": [
        {
          "output_type": "execute_result",
          "data": {
            "text/plain": [
              "<tf.Tensor: shape=(2,), dtype=float32, numpy=array([0.22222221, 0.88888884], dtype=float32)>"
            ]
          },
          "metadata": {
            "tags": []
          },
          "execution_count": 52
        }
      ]
    },
    {
      "cell_type": "markdown",
      "metadata": {
        "id": "8IyrRNlpDIlV"
      },
      "source": [
        "* *Strings*"
      ]
    },
    {
      "cell_type": "code",
      "metadata": {
        "colab": {
          "base_uri": "https://localhost:8080/"
        },
        "id": "voEl75G6DP4S",
        "outputId": "e6b18784-e982-4086-aa6e-d4dbff8c972c"
      },
      "source": [
        "tf.constant(b\"Hello World\")"
      ],
      "execution_count": 53,
      "outputs": [
        {
          "output_type": "execute_result",
          "data": {
            "text/plain": [
              "<tf.Tensor: shape=(), dtype=string, numpy=b'Hello World'>"
            ]
          },
          "metadata": {
            "tags": []
          },
          "execution_count": 53
        }
      ]
    },
    {
      "cell_type": "code",
      "metadata": {
        "colab": {
          "base_uri": "https://localhost:8080/"
        },
        "id": "X6A_5IkDDT0M",
        "outputId": "27df77dd-0b2b-4978-9926-097e105327c6"
      },
      "source": [
        "tf.constant(\"cafe\")"
      ],
      "execution_count": 54,
      "outputs": [
        {
          "output_type": "execute_result",
          "data": {
            "text/plain": [
              "<tf.Tensor: shape=(), dtype=string, numpy=b'cafe'>"
            ]
          },
          "metadata": {
            "tags": []
          },
          "execution_count": 54
        }
      ]
    },
    {
      "cell_type": "code",
      "metadata": {
        "colab": {
          "base_uri": "https://localhost:8080/"
        },
        "id": "0xsnm86ADZJL",
        "outputId": "edb16814-c7d9-40f8-acc1-7e9d9d93858f"
      },
      "source": [
        "u = tf.constant([ord(c) for c in \"cafe\"])\n",
        "u"
      ],
      "execution_count": 55,
      "outputs": [
        {
          "output_type": "execute_result",
          "data": {
            "text/plain": [
              "<tf.Tensor: shape=(4,), dtype=int32, numpy=array([ 99,  97, 102, 101], dtype=int32)>"
            ]
          },
          "metadata": {
            "tags": []
          },
          "execution_count": 55
        }
      ]
    },
    {
      "cell_type": "code",
      "metadata": {
        "colab": {
          "base_uri": "https://localhost:8080/"
        },
        "id": "92E3gkBYDmG8",
        "outputId": "c06ad356-c9f8-47d7-bb94-52d99be2e4bb"
      },
      "source": [
        "b = tf.strings.unicode_encode(u, \"UTF-8\")\n",
        "tf.strings.length(b, unit=\"UTF8_CHAR\")"
      ],
      "execution_count": 56,
      "outputs": [
        {
          "output_type": "execute_result",
          "data": {
            "text/plain": [
              "<tf.Tensor: shape=(), dtype=int32, numpy=4>"
            ]
          },
          "metadata": {
            "tags": []
          },
          "execution_count": 56
        }
      ]
    },
    {
      "cell_type": "code",
      "metadata": {
        "colab": {
          "base_uri": "https://localhost:8080/"
        },
        "id": "lfH-26AKD32S",
        "outputId": "31d4d7e6-3fc9-4ecc-ba14-92a7c4bdef0d"
      },
      "source": [
        "tf.strings.unicode_decode(b, \"UTF-8\")"
      ],
      "execution_count": 57,
      "outputs": [
        {
          "output_type": "execute_result",
          "data": {
            "text/plain": [
              "<tf.Tensor: shape=(4,), dtype=int32, numpy=array([ 99,  97, 102, 101], dtype=int32)>"
            ]
          },
          "metadata": {
            "tags": []
          },
          "execution_count": 57
        }
      ]
    },
    {
      "cell_type": "markdown",
      "metadata": {
        "id": "7MNP_TM4ECbD"
      },
      "source": [
        "* *String arrays*:"
      ]
    },
    {
      "cell_type": "code",
      "metadata": {
        "id": "e15CiEaxEHcg"
      },
      "source": [
        "p = tf.constant(['Cafe', 'Coffee', 'caffe', \"咖啡\"])"
      ],
      "execution_count": 58,
      "outputs": []
    },
    {
      "cell_type": "code",
      "metadata": {
        "colab": {
          "base_uri": "https://localhost:8080/"
        },
        "id": "bXro-u-CEQsQ",
        "outputId": "5082c602-ed41-4555-d9f0-45069035a090"
      },
      "source": [
        "tf.strings.length(p, unit=\"UTF8_CHAR\")"
      ],
      "execution_count": 59,
      "outputs": [
        {
          "output_type": "execute_result",
          "data": {
            "text/plain": [
              "<tf.Tensor: shape=(4,), dtype=int32, numpy=array([4, 6, 5, 2], dtype=int32)>"
            ]
          },
          "metadata": {
            "tags": []
          },
          "execution_count": 59
        }
      ]
    },
    {
      "cell_type": "code",
      "metadata": {
        "colab": {
          "base_uri": "https://localhost:8080/"
        },
        "id": "3NUocpUOEr7y",
        "outputId": "331abcbb-adc6-47d0-b3f3-4480e5ec63aa"
      },
      "source": [
        "r = tf.strings.unicode_decode(p, \"UTF8\")\n",
        "r"
      ],
      "execution_count": 60,
      "outputs": [
        {
          "output_type": "execute_result",
          "data": {
            "text/plain": [
              "<tf.RaggedTensor [[67, 97, 102, 101], [67, 111, 102, 102, 101, 101], [99, 97, 102, 102, 101], [21654, 21857]]>"
            ]
          },
          "metadata": {
            "tags": []
          },
          "execution_count": 60
        }
      ]
    },
    {
      "cell_type": "markdown",
      "metadata": {
        "id": "4gLOOolNttJP"
      },
      "source": [
        "* *Ragged tensors (```tf.RaggedTesnor```)*: Represent static lists of lists of tensors, where every tensor has the same shape\n",
        "and data type. The tf.ragged package contains operations for ragged tensors."
      ]
    },
    {
      "cell_type": "code",
      "metadata": {
        "colab": {
          "base_uri": "https://localhost:8080/"
        },
        "id": "I1fnu8YTt4nd",
        "outputId": "c5c42af9-e20b-4b2e-f2ea-f0de87e45873"
      },
      "source": [
        "print(r[1])"
      ],
      "execution_count": 61,
      "outputs": [
        {
          "output_type": "stream",
          "text": [
            "tf.Tensor([ 67 111 102 102 101 101], shape=(6,), dtype=int32)\n"
          ],
          "name": "stdout"
        }
      ]
    },
    {
      "cell_type": "code",
      "metadata": {
        "colab": {
          "base_uri": "https://localhost:8080/"
        },
        "id": "KUskuHJvE8Db",
        "outputId": "52fe35e6-2465-4fc5-a052-de222b46694d"
      },
      "source": [
        "print(r[1:3])"
      ],
      "execution_count": 62,
      "outputs": [
        {
          "output_type": "stream",
          "text": [
            "<tf.RaggedTensor [[67, 111, 102, 102, 101, 101], [99, 97, 102, 102, 101]]>\n"
          ],
          "name": "stdout"
        }
      ]
    },
    {
      "cell_type": "code",
      "metadata": {
        "colab": {
          "base_uri": "https://localhost:8080/"
        },
        "id": "NLeTdhm7FEfW",
        "outputId": "82e44799-59f4-4447-a32c-f527ff0a32fd"
      },
      "source": [
        "r2 = tf.ragged.constant([[65, 66], [], [67]])\n",
        "print(tf.concat([r, r2], axis = 0))"
      ],
      "execution_count": 63,
      "outputs": [
        {
          "output_type": "stream",
          "text": [
            "<tf.RaggedTensor [[67, 97, 102, 101], [67, 111, 102, 102, 101, 101], [99, 97, 102, 102, 101], [21654, 21857], [65, 66], [], [67]]>\n"
          ],
          "name": "stdout"
        }
      ]
    },
    {
      "cell_type": "code",
      "metadata": {
        "colab": {
          "base_uri": "https://localhost:8080/"
        },
        "id": "nk8thXEsFYrr",
        "outputId": "b375f660-1145-4b91-babb-3136eb7b9c4f"
      },
      "source": [
        "r3 = tf.ragged.constant([[68, 69, 70], [71], [], [72, 73]])\n",
        "print(tf.concat([r, r3], axis = 1))"
      ],
      "execution_count": 64,
      "outputs": [
        {
          "output_type": "stream",
          "text": [
            "<tf.RaggedTensor [[67, 97, 102, 101, 68, 69, 70], [67, 111, 102, 102, 101, 101, 71], [99, 97, 102, 102, 101], [21654, 21857, 72, 73]]>\n"
          ],
          "name": "stdout"
        }
      ]
    },
    {
      "cell_type": "code",
      "metadata": {
        "colab": {
          "base_uri": "https://localhost:8080/"
        },
        "id": "OGAxbge6Fu40",
        "outputId": "23228304-9d8d-42f7-9f96-40a45520b9f2"
      },
      "source": [
        "tf.strings.unicode_encode(r3, \"UTF-8\")"
      ],
      "execution_count": 65,
      "outputs": [
        {
          "output_type": "execute_result",
          "data": {
            "text/plain": [
              "<tf.Tensor: shape=(4,), dtype=string, numpy=array([b'DEF', b'G', b'', b'HI'], dtype=object)>"
            ]
          },
          "metadata": {
            "tags": []
          },
          "execution_count": 65
        }
      ]
    },
    {
      "cell_type": "code",
      "metadata": {
        "colab": {
          "base_uri": "https://localhost:8080/"
        },
        "id": "CS0BDL6kF1pE",
        "outputId": "4f455969-de35-4e36-caea-7468fed7d2fa"
      },
      "source": [
        "r.to_tensor()"
      ],
      "execution_count": 66,
      "outputs": [
        {
          "output_type": "execute_result",
          "data": {
            "text/plain": [
              "<tf.Tensor: shape=(4, 6), dtype=int32, numpy=\n",
              "array([[   67,    97,   102,   101,     0,     0],\n",
              "       [   67,   111,   102,   102,   101,   101],\n",
              "       [   99,    97,   102,   102,   101,     0],\n",
              "       [21654, 21857,     0,     0,     0,     0]], dtype=int32)>"
            ]
          },
          "metadata": {
            "tags": []
          },
          "execution_count": 66
        }
      ]
    },
    {
      "cell_type": "markdown",
      "metadata": {
        "id": "40Qw5XZlGW6K"
      },
      "source": [
        "* *Sets*:"
      ]
    },
    {
      "cell_type": "code",
      "metadata": {
        "colab": {
          "base_uri": "https://localhost:8080/"
        },
        "id": "ynOCFSC9GaVi",
        "outputId": "a460c9ce-c1a7-44fb-f835-27a0a823a211"
      },
      "source": [
        "set1 = tf.constant([[2, 3, 5, 7], [7, 9, 0, 0]])\n",
        "set2 = tf.constant([[4, 5, 6], [9, 10, 0]])\n",
        "tf.sparse.to_dense(tf.sets.union(set1, set2))"
      ],
      "execution_count": 67,
      "outputs": [
        {
          "output_type": "execute_result",
          "data": {
            "text/plain": [
              "<tf.Tensor: shape=(2, 6), dtype=int32, numpy=\n",
              "array([[ 2,  3,  4,  5,  6,  7],\n",
              "       [ 0,  7,  9, 10,  0,  0]], dtype=int32)>"
            ]
          },
          "metadata": {
            "tags": []
          },
          "execution_count": 67
        }
      ]
    },
    {
      "cell_type": "code",
      "metadata": {
        "colab": {
          "base_uri": "https://localhost:8080/"
        },
        "id": "pcS4M4_rGvSS",
        "outputId": "9ef8d8cc-29fe-4777-ca61-693c4d86b824"
      },
      "source": [
        "tf.sparse.to_dense(tf.sets.difference(set1, set2))"
      ],
      "execution_count": 68,
      "outputs": [
        {
          "output_type": "execute_result",
          "data": {
            "text/plain": [
              "<tf.Tensor: shape=(2, 3), dtype=int32, numpy=\n",
              "array([[2, 3, 7],\n",
              "       [7, 0, 0]], dtype=int32)>"
            ]
          },
          "metadata": {
            "tags": []
          },
          "execution_count": 68
        }
      ]
    },
    {
      "cell_type": "code",
      "metadata": {
        "colab": {
          "base_uri": "https://localhost:8080/"
        },
        "id": "h5S-65u7G1mJ",
        "outputId": "1051d30b-ccd4-46ec-b838-7395c3465282"
      },
      "source": [
        "tf.sparse.to_dense(tf.sets.intersection(set1, set2))"
      ],
      "execution_count": 69,
      "outputs": [
        {
          "output_type": "execute_result",
          "data": {
            "text/plain": [
              "<tf.Tensor: shape=(2, 2), dtype=int32, numpy=\n",
              "array([[5, 0],\n",
              "       [0, 9]], dtype=int32)>"
            ]
          },
          "metadata": {
            "tags": []
          },
          "execution_count": 69
        }
      ]
    },
    {
      "cell_type": "markdown",
      "metadata": {
        "id": "zz-k0ZFHHLmr"
      },
      "source": [
        "# **Customizing Models and Training Algorithms**\n",
        "\n",
        "Let's start by creating a custom loss function, which is a simple and common use case.\n",
        "\n",
        "**Custom Loss Functions**\n",
        "\n",
        "Suppose you want to train a regression model, but your training set is a bit noisy. Of\n",
        "course, you start by trying to clean up your dataset by removing or fixing the outliers,\n",
        "but that turns out to be insufficient; the dataset is still noisy. Which loss function\n",
        "should you use? The mean squared error might penalize large errors too much and\n",
        "cause your model to be imprecise. The mean absolute error would not penalize outliers\n",
        "as much, but training might take a while to converge, and the trained model\n",
        "might not be very precise. This is probably a good time to use the Huber loss instead of the good old MSE."
      ]
    },
    {
      "cell_type": "code",
      "metadata": {
        "colab": {
          "base_uri": "https://localhost:8080/"
        },
        "id": "Xw3kT1P0Hokr",
        "outputId": "18b499ec-73e9-486e-8985-f108231ba3a7"
      },
      "source": [
        "from sklearn.datasets import fetch_california_housing\n",
        "from sklearn.model_selection import train_test_split\n",
        "from sklearn.preprocessing import StandardScaler\n",
        "\n",
        "housing = fetch_california_housing()\n",
        "X_train_full, X_test, y_train_full, y_test = train_test_split(housing.data,\n",
        "                                                              housing.target.reshape(-1, 1),\n",
        "                                                              random_state = 42)\n",
        "\n",
        "X_train, X_valid, y_train, y_valid = train_test_split(X_train_full, y_train_full, random_state=42)\n",
        "\n",
        "scalar = StandardScaler()\n",
        "X_train_scaled = scalar.fit_transform(X_train)\n",
        "X_valid_scaled = scalar.transform(X_valid)\n",
        "X_test_scaled = scalar.transform(X_test)"
      ],
      "execution_count": 70,
      "outputs": [
        {
          "output_type": "stream",
          "text": [
            "Downloading Cal. housing from https://ndownloader.figshare.com/files/5976036 to /root/scikit_learn_data\n"
          ],
          "name": "stderr"
        }
      ]
    },
    {
      "cell_type": "code",
      "metadata": {
        "id": "hMbEg-ydImgw"
      },
      "source": [
        "def huber_fn(y_true, y_pred):\n",
        "  error = y_true - y_pred\n",
        "  is_small_error = tf.abs(error) < 1\n",
        "  squared_loss = tf.square(error)/2\n",
        "  linear_loss = tf.abs(error) - 0.5\n",
        "  return tf.where(is_small_error, squared_loss, linear_loss)"
      ],
      "execution_count": 71,
      "outputs": []
    },
    {
      "cell_type": "code",
      "metadata": {
        "colab": {
          "base_uri": "https://localhost:8080/",
          "height": 293
        },
        "id": "urRBIUgBJRrX",
        "outputId": "ca64923f-4126-45e8-d754-e8b7412f1bcf"
      },
      "source": [
        "plt.figure(figsize = (8, 3.5))\n",
        "z = np.linspace(-4, 4, 200)\n",
        "plt.plot(z, huber_fn(0, z), \"b-\", linewidth = 2, label = \"huber($z$\")\n",
        "plt.plot(z, z**2/2, \"b:\", linewidth = 1, label = r\"$\\frac{1}{2}z^2$\")\n",
        "plt.plot([-1, -1], [0, huber_fn(0., -1.)], \"r--\")\n",
        "plt.plot([1, 1], [0, huber_fn(0., 1.)], \"r--\")\n",
        "plt.gca().axhline(y=0, color='k')\n",
        "plt.gca().axvline(x=0, color='k')\n",
        "plt.axis([-4, 4, 0, 4])\n",
        "plt.grid(True)\n",
        "plt.xlabel(\"$z$\")\n",
        "plt.legend(fontsize=14)\n",
        "plt.title(\"Huber loss\", fontsize = 14) "
      ],
      "execution_count": 72,
      "outputs": [
        {
          "output_type": "execute_result",
          "data": {
            "text/plain": [
              "Text(0.5, 1.0, 'Huber loss')"
            ]
          },
          "metadata": {
            "tags": []
          },
          "execution_count": 72
        },
        {
          "output_type": "display_data",
          "data": {
            "image/png": "[encoded data removed]",
            "text/plain": [
              "<Figure size 576x252 with 1 Axes>"
            ]
          },
          "metadata": {
            "tags": [],
            "needs_background": "light"
          }
        }
      ]
    },
    {
      "cell_type": "code",
      "metadata": {
        "id": "Abdl0qMfLZkb"
      },
      "source": [
        "input_shape = X_train.shape[1:]\n",
        "\n",
        "model = keras.models.Sequential([keras.layers.Dense(30, activation=\"selu\",\n",
        "                                                    kernel_initializer=\"lecun_normal\",\n",
        "                                                    input_shape=input_shape),\n",
        "                                 keras.layers.Dense(1)])"
      ],
      "execution_count": 73,
      "outputs": []
    },
    {
      "cell_type": "code",
      "metadata": {
        "id": "3HS0LH26Lxcs"
      },
      "source": [
        "model.compile(loss=huber_fn, optimizer=\"nadam\", metrics=[\"mae\"])"
      ],
      "execution_count": 74,
      "outputs": []
    },
    {
      "cell_type": "code",
      "metadata": {
        "colab": {
          "base_uri": "https://localhost:8080/"
        },
        "id": "2MaoDiX0L4vn",
        "outputId": "5192e18e-1786-4e11-fdeb-6313353690d6"
      },
      "source": [
        "model.fit(X_train_scaled, y_train, epochs=2, \n",
        "          validation_data = (X_valid_scaled, y_valid))"
      ],
      "execution_count": 75,
      "outputs": [
        {
          "output_type": "stream",
          "text": [
            "Epoch 1/2\n",
            "363/363 [==============================] - 1s 2ms/step - loss: 0.6235 - mae: 0.9953 - val_loss: 0.2862 - val_mae: 0.5866\n",
            "Epoch 2/2\n",
            "363/363 [==============================] - 0s 1ms/step - loss: 0.2197 - mae: 0.5177 - val_loss: 0.2382 - val_mae: 0.5281\n"
          ],
          "name": "stdout"
        },
        {
          "output_type": "execute_result",
          "data": {
            "text/plain": [
              "<tensorflow.python.keras.callbacks.History at 0x7fb816a1db38>"
            ]
          },
          "metadata": {
            "tags": []
          },
          "execution_count": 75
        }
      ]
    },
    {
      "cell_type": "markdown",
      "metadata": {
        "id": "PphfAu69MOZk"
      },
      "source": [
        "**Saving/Loading Models with Custom Objects**"
      ]
    },
    {
      "cell_type": "code",
      "metadata": {
        "id": "fiAtVFJEMU0X"
      },
      "source": [
        "model.save(\"my_model_with_a_custom_loss.h5\")"
      ],
      "execution_count": 76,
      "outputs": []
    },
    {
      "cell_type": "code",
      "metadata": {
        "id": "L5QeMK70MNn-"
      },
      "source": [
        "model = keras.models.load_model(\"my_model_with_a_custom_loss.h5\", \n",
        "                                custom_objects={\"huber_fn\":huber_fn})"
      ],
      "execution_count": 77,
      "outputs": []
    },
    {
      "cell_type": "code",
      "metadata": {
        "colab": {
          "base_uri": "https://localhost:8080/"
        },
        "id": "d85tHQikMm54",
        "outputId": "8aecbae6-48c3-4dca-e584-27ec93328ab4"
      },
      "source": [
        "model.fit(X_train_scaled, y_train, epochs = 2, \n",
        "          validation_data = (X_valid_scaled, y_valid))"
      ],
      "execution_count": 78,
      "outputs": [
        {
          "output_type": "stream",
          "text": [
            "Epoch 1/2\n",
            "363/363 [==============================] - 1s 2ms/step - loss: 0.2054 - mean_absolute_error: 0.4982 - val_loss: 0.2209 - val_mean_absolute_error: 0.5050\n",
            "Epoch 2/2\n",
            "363/363 [==============================] - 0s 1ms/step - loss: 0.1999 - mean_absolute_error: 0.4900 - val_loss: 0.2127 - val_mean_absolute_error: 0.4986\n"
          ],
          "name": "stdout"
        },
        {
          "output_type": "execute_result",
          "data": {
            "text/plain": [
              "<tensorflow.python.keras.callbacks.History at 0x7fb810954550>"
            ]
          },
          "metadata": {
            "tags": []
          },
          "execution_count": 78
        }
      ]
    },
    {
      "cell_type": "code",
      "metadata": {
        "id": "71F3xyIpNALr"
      },
      "source": [
        "def create_huber(threshold=1.0):\n",
        "  def huber_fn(y_true, y_pred):\n",
        "    error = y_true - y_pred\n",
        "    is_small_error = tf.abs(error) < threshold\n",
        "    squared_loss = tf.square(error)/2\n",
        "    linear_loss = threshold * tf.abs(error) - threshold**2/2\n",
        "    return tf.where(is_small_error, squared_loss, linear_loss)\n",
        "  return huber_fn"
      ],
      "execution_count": 79,
      "outputs": []
    },
    {
      "cell_type": "code",
      "metadata": {
        "id": "ivUAub3ONidC"
      },
      "source": [
        "model.compile(loss=create_huber(2.0), optimizer=\"nadam\", metrics=['mae'])"
      ],
      "execution_count": 80,
      "outputs": []
    },
    {
      "cell_type": "code",
      "metadata": {
        "colab": {
          "base_uri": "https://localhost:8080/"
        },
        "id": "LCSVv81lNqdR",
        "outputId": "65b59084-91bd-47c1-fe3a-5ec01c90fad1"
      },
      "source": [
        "model.fit(X_train_scaled, y_train, epochs = 2, \n",
        "          validation_data = (X_valid_scaled, y_valid))"
      ],
      "execution_count": 81,
      "outputs": [
        {
          "output_type": "stream",
          "text": [
            "Epoch 1/2\n",
            "363/363 [==============================] - 1s 2ms/step - loss: 0.2226 - mae: 0.4892 - val_loss: 0.2540 - val_mae: 0.4907\n",
            "Epoch 2/2\n",
            "363/363 [==============================] - 0s 1ms/step - loss: 0.2184 - mae: 0.4844 - val_loss: 0.2372 - val_mae: 0.4879\n"
          ],
          "name": "stdout"
        },
        {
          "output_type": "execute_result",
          "data": {
            "text/plain": [
              "<tensorflow.python.keras.callbacks.History at 0x7fb81085cf98>"
            ]
          },
          "metadata": {
            "tags": []
          },
          "execution_count": 81
        }
      ]
    },
    {
      "cell_type": "code",
      "metadata": {
        "id": "zCwy1vIeOGft"
      },
      "source": [
        "class HuberLoss(keras.losses.Loss):\n",
        "  def __init__(self, threshold=1.0, **kwargs):\n",
        "    self.threshold = threshold\n",
        "    super().__init__(**kwargs)\n",
        "  def call(self, y_true, y_pred):\n",
        "    error = y_true - y_pred\n",
        "    is_small_error = tf.abs(error) < self.threshold\n",
        "    squared_loss = tf.square(error)/2\n",
        "    linear_loss = self.threshold*tf.abs(error) - self.threshold**2/2\n",
        "    return tf.where(is_small_error, squared_loss, linear_loss)\n",
        "  def get_config(self):\n",
        "    base_config = super().get_config()\n",
        "    return {**base_config, \"threshold\": self.threshold}"
      ],
      "execution_count": 82,
      "outputs": []
    },
    {
      "cell_type": "markdown",
      "metadata": {
        "id": "CfIFJPbNPCeZ"
      },
      "source": [
        "Let’s walk through this code:\n",
        "\n",
        "* The constructor accepts \\*\\*kwargs and passes them to the parent constructor,\n",
        "which handles standard hyperparameters: the name of the loss and the reduction\n",
        "algorithm to use to aggregate the individual instance losses. By default, it is\n",
        "\"sum_over_batch_size\", which means that the loss will be the sum of the\n",
        "instance losses, weighted by the sample weights, if any, and divided by the batch\n",
        "size (not by the sum of weights, so this is not the weighted mean). Other possible\n",
        "values are \"sum\" and \"none\".\n",
        "* The ```call()``` method takes the labels and predictions, computes all the instance\n",
        "losses, and returns them.\n",
        "* The ```get_config()``` method returns a dictionary mapping each hyperparameter\n",
        "name to its value. It first calls the parent class’s get_config() method, then adds\n",
        "the new hyperparameters to this dictionary (note that the convenient {**x} syntax\n",
        "was added in Python 3.5)."
      ]
    },
    {
      "cell_type": "code",
      "metadata": {
        "id": "376zNjLCPict"
      },
      "source": [
        "model = keras.models.Sequential([\n",
        "                                 keras.layers.Dense(30, activation='selu',\n",
        "                                                    kernel_initializer = \"lecun_normal\",\n",
        "                                                    input_shape = input_shape),\n",
        "                                 keras.layers.Dense(1)\n",
        "])"
      ],
      "execution_count": 83,
      "outputs": []
    },
    {
      "cell_type": "code",
      "metadata": {
        "id": "uqRwX6fhP59-"
      },
      "source": [
        "model.compile(loss = HuberLoss(2.), optimizer=\"nadam\", metrics=['mae'])"
      ],
      "execution_count": 84,
      "outputs": []
    },
    {
      "cell_type": "code",
      "metadata": {
        "colab": {
          "base_uri": "https://localhost:8080/"
        },
        "id": "udd7jgOxQClU",
        "outputId": "9a9aaeee-d40f-4358-d207-6c7c0ae99c0e"
      },
      "source": [
        "model.fit(X_train_scaled, y_train, epochs = 2, \n",
        "          validation_data = (X_valid_scaled, y_valid))"
      ],
      "execution_count": 85,
      "outputs": [
        {
          "output_type": "stream",
          "text": [
            "Epoch 1/2\n",
            "363/363 [==============================] - 1s 2ms/step - loss: 0.7864 - mae: 0.9470 - val_loss: 0.4276 - val_mae: 0.6122\n",
            "Epoch 2/2\n",
            "363/363 [==============================] - 1s 1ms/step - loss: 0.2497 - mae: 0.5204 - val_loss: 0.3437 - val_mae: 0.5537\n"
          ],
          "name": "stdout"
        },
        {
          "output_type": "execute_result",
          "data": {
            "text/plain": [
              "<tensorflow.python.keras.callbacks.History at 0x7fb80f7307f0>"
            ]
          },
          "metadata": {
            "tags": []
          },
          "execution_count": 85
        }
      ]
    },
    {
      "cell_type": "code",
      "metadata": {
        "id": "XeqMfQ8lQY9d"
      },
      "source": [
        "model.save(\"my_model_with_a_custom_loss_class.h5\")"
      ],
      "execution_count": 86,
      "outputs": []
    },
    {
      "cell_type": "code",
      "metadata": {
        "id": "SxLvq1U6Qh6v"
      },
      "source": [
        "model = keras.models.load_model(\"my_model_with_a_custom_loss_class.h5\", # TODO: check PR #25956\n",
        "                                custom_objects={\"HuberLoss\": HuberLoss})"
      ],
      "execution_count": 87,
      "outputs": []
    },
    {
      "cell_type": "code",
      "metadata": {
        "colab": {
          "base_uri": "https://localhost:8080/"
        },
        "id": "bQucmriYQn4u",
        "outputId": "f0b5096b-11c5-4bcd-8d6e-bc812b502687"
      },
      "source": [
        "model.fit(X_train_scaled, y_train, epochs=2,\n",
        "          validation_data=(X_valid_scaled, y_valid))"
      ],
      "execution_count": 88,
      "outputs": [
        {
          "output_type": "stream",
          "text": [
            "Epoch 1/2\n",
            "363/363 [==============================] - 1s 2ms/step - loss: 0.2328 - mean_absolute_error: 0.5019 - val_loss: 0.2627 - val_mean_absolute_error: 0.5015\n",
            "Epoch 2/2\n",
            "363/363 [==============================] - 1s 2ms/step - loss: 0.2234 - mean_absolute_error: 0.4931 - val_loss: 0.2037 - val_mean_absolute_error: 0.4739\n"
          ],
          "name": "stdout"
        },
        {
          "output_type": "execute_result",
          "data": {
            "text/plain": [
              "<tensorflow.python.keras.callbacks.History at 0x7fb80d4c46d8>"
            ]
          },
          "metadata": {
            "tags": []
          },
          "execution_count": 88
        }
      ]
    },
    {
      "cell_type": "code",
      "metadata": {
        "colab": {
          "base_uri": "https://localhost:8080/"
        },
        "id": "Q3R4s5xUQs93",
        "outputId": "2ac9ccbe-3561-4b86-ccff-35ed59742910"
      },
      "source": [
        "model.loss.threshold"
      ],
      "execution_count": 89,
      "outputs": [
        {
          "output_type": "execute_result",
          "data": {
            "text/plain": [
              "2.0"
            ]
          },
          "metadata": {
            "tags": []
          },
          "execution_count": 89
        }
      ]
    },
    {
      "cell_type": "markdown",
      "metadata": {
        "id": "VhhFq2H7SeG9"
      },
      "source": [
        "# **Other Custom Functions**"
      ]
    },
    {
      "cell_type": "code",
      "metadata": {
        "id": "DoFQRvbySk1n"
      },
      "source": [
        "keras.backend.clear_session()\n",
        "np.random.seed(42)\n",
        "tf.random.set_seed(42)"
      ],
      "execution_count": 90,
      "outputs": []
    },
    {
      "cell_type": "code",
      "metadata": {
        "id": "kv0XOckGSviq"
      },
      "source": [
        "def my_softplus(z): #return value is just tf.nn.softplus(z)\n",
        "  return tf.math.log(tf.exp(z) + 1.0)\n",
        "\n",
        "def my_glorot_initializer(shape, dtype=tf.float32):\n",
        "  stddev = tf.sqrt(2./(shape[0] + shape[1]))\n",
        "  return tf.random.normal(shape, stddev=stddev, dtype = dtype)\n",
        "\n",
        "def my_l1_regularizer(weights):\n",
        "  return tf.reduce_sum(tf.abs(0.01*weights))\n",
        "\n",
        "def my_positive_weights(weights):\n",
        "  return tf.where(weights < 0., tf.zeros_like(weights), weights)"
      ],
      "execution_count": 91,
      "outputs": []
    },
    {
      "cell_type": "code",
      "metadata": {
        "id": "tkxqRLklTve1"
      },
      "source": [
        "layer = keras.layers.Dense(1, activation=my_softplus, \n",
        "                           kernel_initializer=my_glorot_initializer,\n",
        "                           kernel_regularizer = my_l1_regularizer,\n",
        "                           kernel_constraint=my_positive_weights)"
      ],
      "execution_count": 92,
      "outputs": []
    },
    {
      "cell_type": "code",
      "metadata": {
        "id": "nsh89NmgUEKl"
      },
      "source": [
        "keras.backend.clear_session()\n",
        "np.random.seed(42)\n",
        "tf.random.set_seed(42)"
      ],
      "execution_count": 93,
      "outputs": []
    },
    {
      "cell_type": "code",
      "metadata": {
        "id": "SsbhMOwfULmh"
      },
      "source": [
        "model = keras.models.Sequential([\n",
        "                                 keras.layers.Dense(30, activation=\"selu\",\n",
        "                                                    kernel_initializer=\"lecun_normal\",\n",
        "                                                    input_shape=input_shape),\n",
        "                                 keras.layers.Dense(1, activation=my_softplus,\n",
        "                                                    kernel_regularizer = my_l1_regularizer,\n",
        "                                                    kernel_constraint = my_positive_weights,\n",
        "                                                    kernel_initializer=my_glorot_initializer)])"
      ],
      "execution_count": 94,
      "outputs": []
    },
    {
      "cell_type": "code",
      "metadata": {
        "id": "3KNd9fKxU4B6"
      },
      "source": [
        "model.compile(loss=\"mse\", optimizer='nadam', metrics = ['mae'])"
      ],
      "execution_count": 95,
      "outputs": []
    },
    {
      "cell_type": "code",
      "metadata": {
        "colab": {
          "base_uri": "https://localhost:8080/"
        },
        "id": "Y-BpuhbvU-NB",
        "outputId": "d714310e-aa0f-41d0-9595-370b2ec92ea9"
      },
      "source": [
        "model.fit(X_train_scaled, y_train, epochs=2,\n",
        "          validation_data = (X_valid_scaled, y_valid))"
      ],
      "execution_count": 96,
      "outputs": [
        {
          "output_type": "stream",
          "text": [
            "Epoch 1/2\n",
            "363/363 [==============================] - 1s 2ms/step - loss: 1.5542 - mae: 0.8962 - val_loss: 1.4154 - val_mae: 0.5607\n",
            "Epoch 2/2\n",
            "363/363 [==============================] - 1s 2ms/step - loss: 0.5943 - mae: 0.5256 - val_loss: 1.4399 - val_mae: 0.5137\n"
          ],
          "name": "stdout"
        },
        {
          "output_type": "execute_result",
          "data": {
            "text/plain": [
              "<tensorflow.python.keras.callbacks.History at 0x7fb816f4ffd0>"
            ]
          },
          "metadata": {
            "tags": []
          },
          "execution_count": 96
        }
      ]
    },
    {
      "cell_type": "code",
      "metadata": {
        "id": "eM8jV7YPVJgR"
      },
      "source": [
        "model.save(\"my_model_with_many_custom_parts.h5\")"
      ],
      "execution_count": 97,
      "outputs": []
    },
    {
      "cell_type": "code",
      "metadata": {
        "id": "zwdBhUbbVPQz"
      },
      "source": [
        "model = keras.models.load_model(\n",
        "    \"my_model_with_many_custom_parts.h5\",\n",
        "    custom_objects = {\n",
        "        \"my_l1_regularizer\": my_l1_regularizer,\n",
        "        \"my_positive_weights\": my_positive_weights,\n",
        "        \"my_glorot_initializer\": my_glorot_initializer,\n",
        "        \"my_softplus\": my_softplus\n",
        "    }\n",
        ")"
      ],
      "execution_count": 98,
      "outputs": []
    },
    {
      "cell_type": "code",
      "metadata": {
        "id": "DGcrrz1hWB7s"
      },
      "source": [
        "class MyL1Regularizer(keras.regularizers.Regularizer):\n",
        "  def __init__(self, factor):\n",
        "    self.factor = factor\n",
        "  def __call__(self, weights):\n",
        "    return tf.reduce_sum(tf.abs(self.factor*weights))\n",
        "  def get_config(self):\n",
        "    return {\"factor\": self.factor}"
      ],
      "execution_count": 99,
      "outputs": []
    },
    {
      "cell_type": "code",
      "metadata": {
        "id": "PWEc3N22WlVS"
      },
      "source": [
        "keras.backend.clear_session()\n",
        "np.random.seed(42)\n",
        "tf.random.set_seed(42)"
      ],
      "execution_count": 100,
      "outputs": []
    },
    {
      "cell_type": "code",
      "metadata": {
        "id": "GUcCcUK5WsAn"
      },
      "source": [
        "model = keras.models.Sequential([\n",
        "    keras.layers.Dense(30, activation=\"selu\", kernel_initializer=\"lecun_normal\",\n",
        "                       input_shape=input_shape),\n",
        "    keras.layers.Dense(1, activation=my_softplus,\n",
        "                       kernel_regularizer=MyL1Regularizer(0.01),\n",
        "                       kernel_constraint=my_positive_weights,\n",
        "                       kernel_initializer=my_glorot_initializer),\n",
        "])"
      ],
      "execution_count": 101,
      "outputs": []
    },
    {
      "cell_type": "code",
      "metadata": {
        "id": "Hd_dKpoTWxM4"
      },
      "source": [
        "model.compile(loss=\"mse\", optimizer=\"nadam\", metrics=[\"mae\"])"
      ],
      "execution_count": 102,
      "outputs": []
    },
    {
      "cell_type": "code",
      "metadata": {
        "colab": {
          "base_uri": "https://localhost:8080/"
        },
        "id": "iQ6X8hkOW0tt",
        "outputId": "af9949a5-0dfd-4c69-a17b-68fc029c22a3"
      },
      "source": [
        "model.fit(X_train_scaled, y_train, epochs=2,\n",
        "          validation_data=(X_valid_scaled, y_valid))"
      ],
      "execution_count": 103,
      "outputs": [
        {
          "output_type": "stream",
          "text": [
            "Epoch 1/2\n",
            "363/363 [==============================] - 1s 2ms/step - loss: 1.5542 - mae: 0.8962 - val_loss: 1.4154 - val_mae: 0.5607\n",
            "Epoch 2/2\n",
            "363/363 [==============================] - 0s 1ms/step - loss: 0.5943 - mae: 0.5256 - val_loss: 1.4399 - val_mae: 0.5137\n"
          ],
          "name": "stdout"
        },
        {
          "output_type": "execute_result",
          "data": {
            "text/plain": [
              "<tensorflow.python.keras.callbacks.History at 0x7fb812da6d30>"
            ]
          },
          "metadata": {
            "tags": []
          },
          "execution_count": 103
        }
      ]
    },
    {
      "cell_type": "code",
      "metadata": {
        "id": "vZBD3UEbW4Pl"
      },
      "source": [
        "model.save(\"my_model_with_many_custom_parts.h5\")"
      ],
      "execution_count": 104,
      "outputs": []
    },
    {
      "cell_type": "code",
      "metadata": {
        "id": "q07MciiyW-ib"
      },
      "source": [
        "model = keras.models.load_model(\n",
        "    \"my_model_with_many_custom_parts.h5\",\n",
        "    custom_objects={\n",
        "       \"MyL1Regularizer\": MyL1Regularizer,\n",
        "       \"my_positive_weights\": my_positive_weights,\n",
        "       \"my_glorot_initializer\": my_glorot_initializer,\n",
        "       \"my_softplus\": my_softplus,\n",
        "    })"
      ],
      "execution_count": 105,
      "outputs": []
    },
    {
      "cell_type": "markdown",
      "metadata": {
        "id": "nQ_QUJWBX3Jm"
      },
      "source": [
        "# **Custom Metrics**\n",
        "\n",
        "Losses and metrics are conceptually not the same thing: losses (e.g., cross entropy)\n",
        "are used by Gradient Descent to train a model, so they must be differentiable (at least\n",
        "where they are evaluated), and their gradients should not be 0 everywhere. Plus, it’s\n",
        "OK if they are not easily interpretable by humans. In contrast, metrics (e.g., accuracy)\n",
        "are used to evaluate a model: they must be more easily interpretable, and they can be\n",
        "non-differentiable or have 0 gradients everywhere."
      ]
    },
    {
      "cell_type": "code",
      "metadata": {
        "id": "I1-73x0zZKwr"
      },
      "source": [
        "keras.backend.clear_session()\n",
        "np.random.seed(42)\n",
        "tf.random.set_seed(42)"
      ],
      "execution_count": 106,
      "outputs": []
    },
    {
      "cell_type": "code",
      "metadata": {
        "id": "39b12gOeZT7j"
      },
      "source": [
        "model = keras.models.Sequential([\n",
        "                               keras.layers.Dense(30, activation='selu',\n",
        "                                                  kernel_initializer=\"lecun_normal\",\n",
        "                                                  input_shape=input_shape),\n",
        "                               keras.layers.Dense(1)\n",
        "])"
      ],
      "execution_count": 107,
      "outputs": []
    },
    {
      "cell_type": "code",
      "metadata": {
        "id": "asiRM7RWZsFo"
      },
      "source": [
        "model.compile(loss='mse', optimizer='nadam', metrics=[create_huber(2.0)])"
      ],
      "execution_count": 108,
      "outputs": []
    },
    {
      "cell_type": "code",
      "metadata": {
        "colab": {
          "base_uri": "https://localhost:8080/"
        },
        "id": "aRo6dutQZ09V",
        "outputId": "12dee540-ced3-49cb-f7f0-c2054d75d3e4"
      },
      "source": [
        "model.fit(X_train_scaled, y_train, epochs=2)"
      ],
      "execution_count": 109,
      "outputs": [
        {
          "output_type": "stream",
          "text": [
            "Epoch 1/2\n",
            "363/363 [==============================] - 0s 1ms/step - loss: 2.0982 - huber_fn: 0.9192\n",
            "Epoch 2/2\n",
            "363/363 [==============================] - 0s 1ms/step - loss: 0.6052 - huber_fn: 0.2733\n"
          ],
          "name": "stdout"
        },
        {
          "output_type": "execute_result",
          "data": {
            "text/plain": [
              "<tensorflow.python.keras.callbacks.History at 0x7fb8135a7780>"
            ]
          },
          "metadata": {
            "tags": []
          },
          "execution_count": 109
        }
      ]
    },
    {
      "cell_type": "markdown",
      "metadata": {
        "id": "YF9GzX-VaQBE"
      },
      "source": [
        "\n",
        "**Warning:** if you use the same function as the loss and a metric, you may be surprised to see different results. This is generally just due to floating point precision errors: even though the mathematical equations are equivalent, the operations are not run in the same order, which can lead to small differences. Moreover, when using sample weights, there's more than just precision errors:\n",
        "\n",
        "* The loss since the start of the epoch is the mean of all batch losses seen so far. Each batch loss is the sum of the weighted instance losses divided by the batch size (not the sum of weights, so the batch loss is not the weighted mean of the losses).\n",
        "* The metric since the start of the epoch is equal to the sum of weighted instance losses divided by sum of all weights seen so far. In other words, it is the weighted mean of all the instance losses. Not the same thing.\n",
        "\n",
        "If you do the math, you will find that loss = metric * mean of sample weights (plus some floating point precision error)."
      ]
    },
    {
      "cell_type": "code",
      "metadata": {
        "id": "lZGfdOBganlp"
      },
      "source": [
        "model.compile(loss=create_huber(2.0), optimizer=\"nadam\", metrics=[create_huber(2.0)])"
      ],
      "execution_count": 110,
      "outputs": []
    },
    {
      "cell_type": "code",
      "metadata": {
        "colab": {
          "base_uri": "https://localhost:8080/"
        },
        "id": "y2OVr-lyasTd",
        "outputId": "295b0929-45e6-49d8-a871-aee049819118"
      },
      "source": [
        "sample_weight = np.random.rand(len(y_train))\n",
        "history = model.fit(X_train_scaled, y_train, epochs=2, sample_weight=sample_weight)"
      ],
      "execution_count": 111,
      "outputs": [
        {
          "output_type": "stream",
          "text": [
            "Epoch 1/2\n",
            "363/363 [==============================] - 0s 1ms/step - loss: 0.1175 - huber_fn: 0.2399\n",
            "Epoch 2/2\n",
            "363/363 [==============================] - 0s 1ms/step - loss: 0.1131 - huber_fn: 0.2297\n"
          ],
          "name": "stdout"
        }
      ]
    },
    {
      "cell_type": "code",
      "metadata": {
        "colab": {
          "base_uri": "https://localhost:8080/"
        },
        "id": "efr_HDBUayxl",
        "outputId": "209feb72-4cb2-4aa3-cf9f-cdacd29db69a"
      },
      "source": [
        "history.history[\"loss\"][0], history.history[\"huber_fn\"][0] * sample_weight.mean()"
      ],
      "execution_count": 112,
      "outputs": [
        {
          "output_type": "execute_result",
          "data": {
            "text/plain": [
              "(0.11749906837940216, 0.11906626312604573)"
            ]
          },
          "metadata": {
            "tags": []
          },
          "execution_count": 112
        }
      ]
    },
    {
      "cell_type": "markdown",
      "metadata": {
        "id": "fhFk-hDtibNc"
      },
      "source": [
        "**Streaming metrics:**\n",
        "\n",
        "For each batch during training, Keras will compute this metric and keep track of its\n",
        "mean since the beginning of the epoch. Most of the time, this is exactly what you\n",
        "want. But not always! Consider a binary classifier’s precision, for example. Precision is the number of true positives divided by the number of positive\n",
        "predictions (including both true positives and false positives). Suppose the model\n",
        "made five positive predictions in the first batch, four of which were correct: that’s 80%\n",
        "precision. Then suppose the model made three positive predictions in the second\n",
        "batch, but they were all incorrect: that’s 0% precision for the second batch. If you just\n",
        "compute the mean of these two precisions, you get 40%. But wait a second—that’s not\n",
        "the model’s precision over these two batches! Indeed, there were a total of four true\n",
        "positives (4 + 0) out of eight positive predictions (5 + 3), so the overall precision is\n",
        "50%, not 40%. What we need is an object that can keep track of the number of true\n",
        "positives and the number of false positives and that can compute their ratio when\n",
        "requested. This is precisely what the keras.metrics.Precision class does:"
      ]
    },
    {
      "cell_type": "code",
      "metadata": {
        "colab": {
          "base_uri": "https://localhost:8080/"
        },
        "id": "689UK2kOi-hN",
        "outputId": "16379647-924d-4978-b5e4-2d4ee413d7db"
      },
      "source": [
        "precision = keras.metrics.Precision()\n",
        "precision([0, 1, 1, 1, 0, 1, 0, 1], [1, 1, 0, 1, 0, 1, 0, 1])"
      ],
      "execution_count": 113,
      "outputs": [
        {
          "output_type": "execute_result",
          "data": {
            "text/plain": [
              "<tf.Tensor: shape=(), dtype=float32, numpy=0.8>"
            ]
          },
          "metadata": {
            "tags": []
          },
          "execution_count": 113
        }
      ]
    },
    {
      "cell_type": "code",
      "metadata": {
        "colab": {
          "base_uri": "https://localhost:8080/"
        },
        "id": "8naAWVgYjQLk",
        "outputId": "974e0b47-513a-4d7d-9aa5-a3ae09bb3bb4"
      },
      "source": [
        "precision([0, 1, 0, 0, 1, 0, 1, 1], [1, 0, 1, 1, 0, 0, 0, 0])"
      ],
      "execution_count": 114,
      "outputs": [
        {
          "output_type": "execute_result",
          "data": {
            "text/plain": [
              "<tf.Tensor: shape=(), dtype=float32, numpy=0.5>"
            ]
          },
          "metadata": {
            "tags": []
          },
          "execution_count": 114
        }
      ]
    },
    {
      "cell_type": "code",
      "metadata": {
        "colab": {
          "base_uri": "https://localhost:8080/"
        },
        "id": "IByI9hM3jeQ5",
        "outputId": "862b5e73-16c4-4702-85e3-659b6e71231a"
      },
      "source": [
        "precision.result()"
      ],
      "execution_count": 115,
      "outputs": [
        {
          "output_type": "execute_result",
          "data": {
            "text/plain": [
              "<tf.Tensor: shape=(), dtype=float32, numpy=0.5>"
            ]
          },
          "metadata": {
            "tags": []
          },
          "execution_count": 115
        }
      ]
    },
    {
      "cell_type": "code",
      "metadata": {
        "colab": {
          "base_uri": "https://localhost:8080/"
        },
        "id": "EVOsEVHkjhCK",
        "outputId": "cb896965-8e67-45a4-8ba4-bf7b497a4820"
      },
      "source": [
        "precision.variables"
      ],
      "execution_count": 116,
      "outputs": [
        {
          "output_type": "execute_result",
          "data": {
            "text/plain": [
              "[<tf.Variable 'true_positives:0' shape=(1,) dtype=float32, numpy=array([4.], dtype=float32)>,\n",
              " <tf.Variable 'false_positives:0' shape=(1,) dtype=float32, numpy=array([4.], dtype=float32)>]"
            ]
          },
          "metadata": {
            "tags": []
          },
          "execution_count": 116
        }
      ]
    },
    {
      "cell_type": "code",
      "metadata": {
        "id": "UIVLni2vjnqi"
      },
      "source": [
        "precision.reset_states()"
      ],
      "execution_count": 117,
      "outputs": []
    },
    {
      "cell_type": "markdown",
      "metadata": {
        "id": "vzwiJaj0jrWc"
      },
      "source": [
        "Creating a streaming metric:"
      ]
    },
    {
      "cell_type": "code",
      "metadata": {
        "id": "lPENannfju72"
      },
      "source": [
        "class HuberMetric(keras.metrics.Metric):\n",
        "    def __init__(self, threshold=1.0, **kwargs):\n",
        "        super().__init__(**kwargs) # handles base args (e.g., dtype)\n",
        "        self.threshold = threshold\n",
        "        #self.huber_fn = create_huber(threshold) # TODO: investigate why this fails\n",
        "        self.total = self.add_weight(\"total\", initializer=\"zeros\")\n",
        "        self.count = self.add_weight(\"count\", initializer=\"zeros\")\n",
        "    def huber_fn(self, y_true, y_pred): # workaround\n",
        "        error = y_true - y_pred\n",
        "        is_small_error = tf.abs(error) < self.threshold\n",
        "        squared_loss = tf.square(error) / 2\n",
        "        linear_loss  = self.threshold * tf.abs(error) - self.threshold**2 / 2\n",
        "        return tf.where(is_small_error, squared_loss, linear_loss)\n",
        "    def update_state(self, y_true, y_pred, sample_weight=None):\n",
        "        metric = self.huber_fn(y_true, y_pred)\n",
        "        self.total.assign_add(tf.reduce_sum(metric))\n",
        "        self.count.assign_add(tf.cast(tf.size(y_true), tf.float32))\n",
        "    def result(self):\n",
        "        return self.total / self.count\n",
        "    def get_config(self):\n",
        "        base_config = super().get_config()\n",
        "        return {**base_config, \"threshold\": self.threshold}"
      ],
      "execution_count": 118,
      "outputs": []
    },
    {
      "cell_type": "code",
      "metadata": {
        "colab": {
          "base_uri": "https://localhost:8080/"
        },
        "id": "WtBv-yHpj5tM",
        "outputId": "8e1b9801-fb63-43a4-88a0-e4d02e37f6fc"
      },
      "source": [
        "m = HuberMetric(2.)\n",
        "\n",
        "#total = 2*|10 - 2| - 2^2/2 = 14\n",
        "#count = 1\n",
        "#result = 14/1 = 14\n",
        "\n",
        "m(tf.constant([[2.]]), tf.constant([[10.]]))"
      ],
      "execution_count": 119,
      "outputs": [
        {
          "output_type": "execute_result",
          "data": {
            "text/plain": [
              "<tf.Tensor: shape=(), dtype=float32, numpy=14.0>"
            ]
          },
          "metadata": {
            "tags": []
          },
          "execution_count": 119
        }
      ]
    },
    {
      "cell_type": "code",
      "metadata": {
        "colab": {
          "base_uri": "https://localhost:8080/"
        },
        "id": "1kpYSzfSkT50",
        "outputId": "a78091ef-7970-430e-c999-0c1ab6c6beba"
      },
      "source": [
        "#total = total + (|1-0|^2/2) + (2*|9.25 - 5| - 2^2/2) = 14+7 = 21\n",
        "#count = count + 2 = 3\n",
        "#result = total/count = 21/3 = 7\n",
        "\n",
        "m(tf.constant([[0.], [5.]]), tf.constant([[1.], [9.25]]))\n",
        "\n",
        "m.result()"
      ],
      "execution_count": 120,
      "outputs": [
        {
          "output_type": "execute_result",
          "data": {
            "text/plain": [
              "<tf.Tensor: shape=(), dtype=float32, numpy=7.0>"
            ]
          },
          "metadata": {
            "tags": []
          },
          "execution_count": 120
        }
      ]
    },
    {
      "cell_type": "code",
      "metadata": {
        "colab": {
          "base_uri": "https://localhost:8080/"
        },
        "id": "WpEoWmy4k0O_",
        "outputId": "b8e33079-7356-40b7-8f4c-a2a0eeccbc84"
      },
      "source": [
        "m.variables"
      ],
      "execution_count": 121,
      "outputs": [
        {
          "output_type": "execute_result",
          "data": {
            "text/plain": [
              "[<tf.Variable 'total:0' shape=() dtype=float32, numpy=21.0>,\n",
              " <tf.Variable 'count:0' shape=() dtype=float32, numpy=3.0>]"
            ]
          },
          "metadata": {
            "tags": []
          },
          "execution_count": 121
        }
      ]
    },
    {
      "cell_type": "code",
      "metadata": {
        "colab": {
          "base_uri": "https://localhost:8080/"
        },
        "id": "RQD_S5Dpk3ZU",
        "outputId": "3984e041-6c00-4467-e376-0fbb733964e6"
      },
      "source": [
        "m.reset_states()\n",
        "m.variables"
      ],
      "execution_count": 122,
      "outputs": [
        {
          "output_type": "execute_result",
          "data": {
            "text/plain": [
              "[<tf.Variable 'total:0' shape=() dtype=float32, numpy=0.0>,\n",
              " <tf.Variable 'count:0' shape=() dtype=float32, numpy=0.0>]"
            ]
          },
          "metadata": {
            "tags": []
          },
          "execution_count": 122
        }
      ]
    },
    {
      "cell_type": "markdown",
      "metadata": {
        "id": "XMYEU9UAk7zC"
      },
      "source": [
        "Let's check that the ```HuberMetric``` class works well:"
      ]
    },
    {
      "cell_type": "code",
      "metadata": {
        "id": "kmVcy7QKlCfh"
      },
      "source": [
        "keras.backend.clear_session()\n",
        "np.random.seed(42)\n",
        "tf.random.set_seed(42)"
      ],
      "execution_count": 123,
      "outputs": []
    },
    {
      "cell_type": "code",
      "metadata": {
        "id": "cld05YFLmEvS"
      },
      "source": [
        "model = keras.models.Sequential([keras.layers.Dense(30, activation='selu',\n",
        "                                                    kernel_initializer=\"lecun_normal\",\n",
        "                                                    input_shape=input_shape),\n",
        "                                 keras.layers.Dense(1)])"
      ],
      "execution_count": 124,
      "outputs": []
    },
    {
      "cell_type": "code",
      "metadata": {
        "id": "HNSKRGimmWNr"
      },
      "source": [
        "model.compile(loss = create_huber(2.0), optimizer=\"nadam\", metrics=[HuberMetric(2.0)])"
      ],
      "execution_count": 125,
      "outputs": []
    },
    {
      "cell_type": "code",
      "metadata": {
        "colab": {
          "base_uri": "https://localhost:8080/"
        },
        "id": "7rz09u8emhB_",
        "outputId": "4d53944d-3d2e-4457-9109-fe3501d4820e"
      },
      "source": [
        "model.fit(X_train_scaled.astype(np.float32), y_train.astype(np.float32), epochs=2)"
      ],
      "execution_count": 126,
      "outputs": [
        {
          "output_type": "stream",
          "text": [
            "Epoch 1/2\n",
            "363/363 [==============================] - 0s 1ms/step - loss: 0.8707 - huber_metric: 0.8707\n",
            "Epoch 2/2\n",
            "363/363 [==============================] - 0s 1ms/step - loss: 0.2595 - huber_metric: 0.2595\n"
          ],
          "name": "stdout"
        },
        {
          "output_type": "execute_result",
          "data": {
            "text/plain": [
              "<tensorflow.python.keras.callbacks.History at 0x7fb8132e5588>"
            ]
          },
          "metadata": {
            "tags": []
          },
          "execution_count": 126
        }
      ]
    },
    {
      "cell_type": "code",
      "metadata": {
        "id": "WwwOCElumvfe"
      },
      "source": [
        "model.save(\"my_model_with_a_custom_metric.h5\")"
      ],
      "execution_count": 127,
      "outputs": []
    },
    {
      "cell_type": "code",
      "metadata": {
        "id": "37Kf3E7Lm0_t"
      },
      "source": [
        "model = keras.models.load_model(\"my_model_with_a_custom_metric.h5\",           # TODO: check PR #25956\n",
        "                                custom_objects={\"huber_fn\": create_huber(2.0),\n",
        "                                                \"HuberMetric\": HuberMetric})"
      ],
      "execution_count": 128,
      "outputs": []
    },
    {
      "cell_type": "code",
      "metadata": {
        "colab": {
          "base_uri": "https://localhost:8080/"
        },
        "id": "Z6sJwDyem4zI",
        "outputId": "1ef67a06-4d09-4c79-8183-3bd09dcd9273"
      },
      "source": [
        "model.fit(X_train_scaled.astype(np.float32), y_train.astype(np.float32), epochs=2)"
      ],
      "execution_count": 129,
      "outputs": [
        {
          "output_type": "stream",
          "text": [
            "Epoch 1/2\n",
            "363/363 [==============================] - 0s 1ms/step - loss: 0.2350 - huber_metric: 0.2350\n",
            "Epoch 2/2\n",
            "363/363 [==============================] - 0s 1ms/step - loss: 0.2278 - huber_metric: 0.2278\n"
          ],
          "name": "stdout"
        },
        {
          "output_type": "execute_result",
          "data": {
            "text/plain": [
              "<tensorflow.python.keras.callbacks.History at 0x7fb81311e6a0>"
            ]
          },
          "metadata": {
            "tags": []
          },
          "execution_count": 129
        }
      ]
    },
    {
      "cell_type": "code",
      "metadata": {
        "colab": {
          "base_uri": "https://localhost:8080/"
        },
        "id": "qJwumeKanEWh",
        "outputId": "37193034-fb35-4e8e-c0c1-df46b0fc3c3b"
      },
      "source": [
        "model.metrics[-1].threshold"
      ],
      "execution_count": 130,
      "outputs": [
        {
          "output_type": "execute_result",
          "data": {
            "text/plain": [
              "2.0"
            ]
          },
          "metadata": {
            "tags": []
          },
          "execution_count": 130
        }
      ]
    },
    {
      "cell_type": "markdown",
      "metadata": {
        "id": "b4zgBsFjnV-z"
      },
      "source": [
        "Looks like it works fine! More simply, we could have created the class like this:"
      ]
    },
    {
      "cell_type": "code",
      "metadata": {
        "id": "GTp7rljVneCX"
      },
      "source": [
        "class HuberMetric(keras.metrics.Mean):\n",
        "    def __init__(self, threshold=1.0, name='HuberMetric', dtype=None):\n",
        "        self.threshold = threshold\n",
        "        self.huber_fn = create_huber(threshold)\n",
        "        super().__init__(name=name, dtype=dtype)\n",
        "    def update_state(self, y_true, y_pred, sample_weight=None):\n",
        "        metric = self.huber_fn(y_true, y_pred)\n",
        "        super(HuberMetric, self).update_state(metric, sample_weight)\n",
        "    def get_config(self):\n",
        "        base_config = super().get_config()\n",
        "        return {**base_config, \"threshold\": self.threshold}"
      ],
      "execution_count": 131,
      "outputs": []
    },
    {
      "cell_type": "markdown",
      "metadata": {
        "id": "OPJR_6oLnnNO"
      },
      "source": [
        "This class handles shapes better, and it also supports sample weights\n"
      ]
    },
    {
      "cell_type": "code",
      "metadata": {
        "id": "NsYQhlQgnsyX"
      },
      "source": [
        "keras.backend.clear_session()\n",
        "np.random.seed(42)\n",
        "tf.random.set_seed(42)"
      ],
      "execution_count": 132,
      "outputs": []
    },
    {
      "cell_type": "code",
      "metadata": {
        "id": "KvRVIQYfn0og"
      },
      "source": [
        "model = keras.models.Sequential([keras.layers.Dense(30, activation='selu', kernel_initializer=\"lecun_normal\", input_shape=input_shape),\n",
        "                                 keras.layers.Dense(1)]\n",
        ")"
      ],
      "execution_count": 133,
      "outputs": []
    },
    {
      "cell_type": "code",
      "metadata": {
        "id": "GRO15tCzoN_t"
      },
      "source": [
        "model.compile(loss=keras.losses.Huber(2.0), optimizer=\"nadam\", weighted_metrics=[HuberMetric(2.0)])"
      ],
      "execution_count": 134,
      "outputs": []
    },
    {
      "cell_type": "code",
      "metadata": {
        "colab": {
          "base_uri": "https://localhost:8080/"
        },
        "id": "LnkEid5WoX5D",
        "outputId": "3dc65e95-9925-49a3-ef0b-43a88b59fa4e"
      },
      "source": [
        "sample_weight = np.random.rand(len(y_train))\n",
        "history = model.fit(X_train_scaled.astype(np.float32), y_train.astype(np.float32), epochs = 2, \n",
        "                    sample_weight=sample_weight)"
      ],
      "execution_count": 135,
      "outputs": [
        {
          "output_type": "stream",
          "text": [
            "Epoch 1/2\n",
            "363/363 [==============================] - 0s 1ms/step - loss: 0.4455 - HuberMetric: 0.8978\n",
            "Epoch 2/2\n",
            "363/363 [==============================] - 0s 1ms/step - loss: 0.1305 - HuberMetric: 0.2631\n"
          ],
          "name": "stdout"
        }
      ]
    },
    {
      "cell_type": "code",
      "metadata": {
        "colab": {
          "base_uri": "https://localhost:8080/"
        },
        "id": "OYHmeh-Ioqiu",
        "outputId": "11c530f2-a6bb-4f40-9bfb-6515a9ed6269"
      },
      "source": [
        "history.history['loss'][0], history.history['HuberMetric'][0] * sample_weight.mean()"
      ],
      "execution_count": 136,
      "outputs": [
        {
          "output_type": "execute_result",
          "data": {
            "text/plain": [
              "(0.44554394483566284, 0.44554404180100277)"
            ]
          },
          "metadata": {
            "tags": []
          },
          "execution_count": 136
        }
      ]
    },
    {
      "cell_type": "code",
      "metadata": {
        "id": "6LzA8Ddzo0y_"
      },
      "source": [
        "model.save(\"my_model_with_a_custom_metric_v2.h5\")"
      ],
      "execution_count": 137,
      "outputs": []
    },
    {
      "cell_type": "code",
      "metadata": {
        "id": "Ujh3_x_vo9K2"
      },
      "source": [
        "model = keras.models.load_model(\"my_model_with_a_custom_metric_v2.h5\",        # TODO: check PR #25956\n",
        "                                custom_objects={\"HuberMetric\": HuberMetric})"
      ],
      "execution_count": 138,
      "outputs": []
    },
    {
      "cell_type": "code",
      "metadata": {
        "colab": {
          "base_uri": "https://localhost:8080/"
        },
        "id": "ka-npfk7pAWr",
        "outputId": "83e57803-1f25-49fb-a6bc-999910e3a133"
      },
      "source": [
        "model.fit(X_train_scaled.astype(np.float32), y_train.astype(np.float32), epochs = 2)"
      ],
      "execution_count": 139,
      "outputs": [
        {
          "output_type": "stream",
          "text": [
            "Epoch 1/2\n",
            "363/363 [==============================] - 0s 1ms/step - loss: 0.2377 - HuberMetric: 0.2377\n",
            "Epoch 2/2\n",
            "363/363 [==============================] - 0s 1ms/step - loss: 0.2279 - HuberMetric: 0.2279\n"
          ],
          "name": "stdout"
        },
        {
          "output_type": "execute_result",
          "data": {
            "text/plain": [
              "<tensorflow.python.keras.callbacks.History at 0x7fb812e28fd0>"
            ]
          },
          "metadata": {
            "tags": []
          },
          "execution_count": 139
        }
      ]
    },
    {
      "cell_type": "markdown",
      "metadata": {
        "id": "Oz0NbhU2pYq0"
      },
      "source": [
        "# **Custom Layers:**\n",
        "\n",
        "You may occasionally want to build an architecture that contains an exotic layer for\n",
        "which TensorFlow does not provide a default implementation. In this case, you will\n",
        "need to create a custom layer. Or you may simply want to build a very repetitive\n",
        "architecture, containing identical blocks of layers repeated many times, and it would\n",
        "be convenient to treat each block of layers as a single layer. For example, if the model\n",
        "is a sequence of layers A, B, C, A, B, C, A, B, C, then you might want to define a custom\n",
        "layer D containing layers A, B, C, so your model would then simply be D, D, D.\n",
        "Let’s see how to build custom layers."
      ]
    },
    {
      "cell_type": "markdown",
      "metadata": {
        "id": "z0J2Bo4qpogT"
      },
      "source": [
        "First, some layers have no weights, such as keras.layers.Flatten or keras.lay\n",
        "ers.ReLU. If you want to create a custom layer without any weights, the simplest\n",
        "option is to write a function and wrap it in a keras.layers.Lambda layer. For example,\n",
        "the following layer will apply the exponential function to its inputs:"
      ]
    },
    {
      "cell_type": "code",
      "metadata": {
        "id": "UG40c9sFpp_A"
      },
      "source": [
        "exponential_layer = keras.layers.Lambda(lambda x: tf.exp(x))"
      ],
      "execution_count": 140,
      "outputs": []
    },
    {
      "cell_type": "code",
      "metadata": {
        "colab": {
          "base_uri": "https://localhost:8080/"
        },
        "id": "ye6QAkWdpx2Q",
        "outputId": "5006c045-596e-484c-8dba-a0c5d397f2bd"
      },
      "source": [
        "exponential_layer([-1., 0., 1.])"
      ],
      "execution_count": 141,
      "outputs": [
        {
          "output_type": "execute_result",
          "data": {
            "text/plain": [
              "<tf.Tensor: shape=(3,), dtype=float32, numpy=array([0.36787945, 1.        , 2.7182817 ], dtype=float32)>"
            ]
          },
          "metadata": {
            "tags": []
          },
          "execution_count": 141
        }
      ]
    },
    {
      "cell_type": "markdown",
      "metadata": {
        "id": "Jh7I5NZNp4Ng"
      },
      "source": [
        "Adding an exponential layer at the output of a regression model can be useful if the values to predict are positive and with very different scales (e.g., 0.001, 10., 10000):"
      ]
    },
    {
      "cell_type": "code",
      "metadata": {
        "id": "lIv6NHR4p6_Z"
      },
      "source": [
        "keras.backend.clear_session()\n",
        "np.random.seed(42)\n",
        "tf.random.set_seed(42)"
      ],
      "execution_count": 142,
      "outputs": []
    },
    {
      "cell_type": "code",
      "metadata": {
        "colab": {
          "base_uri": "https://localhost:8080/"
        },
        "id": "vw_i4dZnqVrO",
        "outputId": "0b35463f-073c-4004-8e53-600e6d3b9ee7"
      },
      "source": [
        "model = keras.models.Sequential([\n",
        "    keras.layers.Dense(30, activation=\"relu\", input_shape=input_shape),\n",
        "    keras.layers.Dense(1),\n",
        "    exponential_layer\n",
        "])\n",
        "model.compile(loss=\"mse\", optimizer=\"nadam\")\n",
        "model.fit(X_train_scaled, y_train, epochs=5,\n",
        "          validation_data=(X_valid_scaled, y_valid))\n",
        "model.evaluate(X_test_scaled, y_test)"
      ],
      "execution_count": 143,
      "outputs": [
        {
          "output_type": "stream",
          "text": [
            "Epoch 1/5\n",
            "363/363 [==============================] - 1s 1ms/step - loss: nan - val_loss: nan\n",
            "Epoch 2/5\n",
            "363/363 [==============================] - 0s 1ms/step - loss: nan - val_loss: nan\n",
            "Epoch 3/5\n",
            "363/363 [==============================] - 0s 1ms/step - loss: nan - val_loss: nan\n",
            "Epoch 4/5\n",
            "363/363 [==============================] - 0s 1ms/step - loss: nan - val_loss: nan\n",
            "Epoch 5/5\n",
            "363/363 [==============================] - 0s 1ms/step - loss: nan - val_loss: nan\n",
            "162/162 [==============================] - 0s 739us/step - loss: nan\n"
          ],
          "name": "stdout"
        },
        {
          "output_type": "execute_result",
          "data": {
            "text/plain": [
              "nan"
            ]
          },
          "metadata": {
            "tags": []
          },
          "execution_count": 143
        }
      ]
    },
    {
      "cell_type": "code",
      "metadata": {
        "id": "1Ju-l5yIqcsu"
      },
      "source": [
        "class MyDense(keras.layers.Layer):\n",
        "    def __init__(self, units, activation=None, **kwargs):\n",
        "        super().__init__(**kwargs)\n",
        "        self.units = units\n",
        "        self.activation = keras.activations.get(activation)\n",
        "\n",
        "    def build(self, batch_input_shape):\n",
        "        self.kernel = self.add_weight(\n",
        "            name=\"kernel\", shape=[batch_input_shape[-1], self.units],\n",
        "            initializer=\"glorot_normal\")\n",
        "        self.bias = self.add_weight(\n",
        "            name=\"bias\", shape=[self.units], initializer=\"zeros\")\n",
        "        super().build(batch_input_shape) # must be at the end\n",
        "\n",
        "    def call(self, X):\n",
        "        return self.activation(X @ self.kernel + self.bias)\n",
        "\n",
        "    def compute_output_shape(self, batch_input_shape):\n",
        "        return tf.TensorShape(batch_input_shape.as_list()[:-1] + [self.units])\n",
        "\n",
        "    def get_config(self):\n",
        "        base_config = super().get_config()\n",
        "        return {**base_config, \"units\": self.units,\n",
        "                \"activation\": keras.activations.serialize(self.activation)}"
      ],
      "execution_count": 144,
      "outputs": []
    },
    {
      "cell_type": "markdown",
      "metadata": {
        "id": "7JN9IIXhqftI"
      },
      "source": [
        "Let’s walk through this code:\n",
        "\n",
        "* The constructor takes all the hyperparameters as arguments (in this example,\n",
        "```units``` and ```activation```), and importantly it also takes a **kwargs argument. It\n",
        "calls the parent constructor, passing it the kwargs: this takes care of standard\n",
        "arguments such as ```input_shape```, trainable, and name. Then it saves the hyperparameters\n",
        "as attributes, converting the ```activation``` argument to the appropriate\n",
        "activation function using the ```keras.activations.get()``` function (it accepts\n",
        "functions, standard strings like \"relu\" or \"selu\", or simply None)\n",
        "* The ```build()``` method’s role is to create the layer’s variables by calling the\n",
        "add_weight() method for each weight. The build() method is called the first\n",
        "time the layer is used. At that point, Keras will know the shape of this layer’s\n",
        "inputs, and it will pass it to the ```build()``` method, which is often necessary to create\n",
        "some of the weights. For example, we need to know the number of neurons in\n",
        "the previous layer in order to create the connection weights matrix (i.e., the\n",
        "\"kernel\"): this corresponds to the size of the last dimension of the inputs. At the\n",
        "end of the ```build()``` method (and only at the end), you must call the parent’s ```build()``` method: this tells Keras that the layer is built (it just sets\n",
        "```self.built=True```).\n",
        "* The ```call()``` method performs the desired operations. In this case, we compute\n",
        "the matrix multiplication of the inputs X and the layer’s kernel, we add the bias\n",
        "vector, and we apply the activation function to the result, and this gives us the\n",
        "output of the layer.\n",
        "* The ```compute_output_shape()``` method simply returns the shape of this layer’s\n",
        "outputs. In this case, it is the same shape as the inputs, except the last dimension\n",
        "is replaced with the number of neurons in the layer. Note that in ```tf.keras```, shapes\n",
        "are instances of the ```tf.TensorShape``` class, which you can convert to Python lists\n",
        "using ```as_list()```.\n",
        "* The ```get_config()``` method is just like in the previous custom classes. Note that\n",
        "we save the activation function’s full configuration by calling ```keras.activa\n",
        "tions.serialize()```."
      ]
    },
    {
      "cell_type": "code",
      "metadata": {
        "id": "8VhZAgDtrfDs"
      },
      "source": [
        "keras.backend.clear_session()\n",
        "np.random.seed(42)\n",
        "tf.random.set_seed(42)"
      ],
      "execution_count": 145,
      "outputs": []
    },
    {
      "cell_type": "code",
      "metadata": {
        "id": "xyt-spdHrmvd"
      },
      "source": [
        "model = keras.models.Sequential([MyDense(30, activation=\"relu\", input_shape = input_shape),\n",
        "                                 MyDense(1)])"
      ],
      "execution_count": 146,
      "outputs": []
    },
    {
      "cell_type": "code",
      "metadata": {
        "colab": {
          "base_uri": "https://localhost:8080/"
        },
        "id": "zLrUvh__r17f",
        "outputId": "d57c04f7-a0ad-4649-be24-319f76c85698"
      },
      "source": [
        "model.compile(loss=\"mse\", optimizer=\"nadam\")\n",
        "model.fit(X_train_scaled, y_train, epochs=2,\n",
        "          validation_data = (X_valid_scaled, y_valid))\n",
        "model.evaluate(X_test_scaled, y_test)"
      ],
      "execution_count": 147,
      "outputs": [
        {
          "output_type": "stream",
          "text": [
            "Epoch 1/2\n",
            "363/363 [==============================] - 1s 1ms/step - loss: 2.2563 - val_loss: 0.9472\n",
            "Epoch 2/2\n",
            "363/363 [==============================] - 0s 1ms/step - loss: 0.6485 - val_loss: 0.6219\n",
            "162/162 [==============================] - 0s 853us/step - loss: 0.5474\n"
          ],
          "name": "stdout"
        },
        {
          "output_type": "execute_result",
          "data": {
            "text/plain": [
              "0.5473727583885193"
            ]
          },
          "metadata": {
            "tags": []
          },
          "execution_count": 147
        }
      ]
    },
    {
      "cell_type": "code",
      "metadata": {
        "id": "pl5Snt_-uOiY"
      },
      "source": [
        "model.save(\"my_model_with_a_custom_layer.h5\")"
      ],
      "execution_count": 148,
      "outputs": []
    },
    {
      "cell_type": "code",
      "metadata": {
        "id": "5xAHc7CauQmC"
      },
      "source": [
        "model = keras.models.load_model(\"my_model_with_a_custom_layer.h5\",\n",
        "                                custom_objects = {\"MyDense\":MyDense})"
      ],
      "execution_count": 149,
      "outputs": []
    },
    {
      "cell_type": "code",
      "metadata": {
        "id": "76OD60bzuhJP"
      },
      "source": [
        "class MyMultiLayer(keras.layers.Layer):\n",
        "  def call(self, X):\n",
        "    X1, X2 = X\n",
        "    return X1 + X2, X1*X2\n",
        "\n",
        "  def compute_output_shape(self, batch_input_shape):\n",
        "    batch_input_shape1, batch_input_shape2 = batch_input_shape\n",
        "    return [batch_input_shape1, batch_input_shape2]"
      ],
      "execution_count": 150,
      "outputs": []
    },
    {
      "cell_type": "code",
      "metadata": {
        "id": "pEjArAKWu_of"
      },
      "source": [
        "keras.backend.clear_session()\n",
        "np.random.seed(42)\n",
        "tf.random.set_seed(42)"
      ],
      "execution_count": 151,
      "outputs": []
    },
    {
      "cell_type": "code",
      "metadata": {
        "id": "DbZobBNUvCpE"
      },
      "source": [
        "inputs1 = keras.layers.Input(shape = [2])\n",
        "inputs2 = keras.layers.Input(shape = [2])\n",
        "outputs1, outputs2 = MyMultiLayer()((inputs1, inputs2))"
      ],
      "execution_count": 152,
      "outputs": []
    },
    {
      "cell_type": "markdown",
      "metadata": {
        "id": "cYbVsgJ7vSaO"
      },
      "source": [
        "Let's create a layer with a different behavior during training and testing:"
      ]
    },
    {
      "cell_type": "code",
      "metadata": {
        "id": "C-uplODUvT7A"
      },
      "source": [
        "class AddGaussianNoise(keras.layers.Layer):\n",
        "  def __init__(self, stddev, **kwargs):\n",
        "    super().__init__(**kwargs)\n",
        "    self.stddev = stddev\n",
        "\n",
        "  def call(self, X, training = None):\n",
        "    if training:\n",
        "      noise = tf.random.normal(tf.shape(X), stddev = self.stddev)\n",
        "      return X+noise \n",
        "    else:\n",
        "      return X\n",
        "\n",
        "  def compute_output_shape(self, batch_input_shape):\n",
        "    return batch_input_shape"
      ],
      "execution_count": 153,
      "outputs": []
    },
    {
      "cell_type": "code",
      "metadata": {
        "colab": {
          "base_uri": "https://localhost:8080/"
        },
        "id": "XE8K39M3wAz7",
        "outputId": "5f03c0fc-b1a5-4d41-fb1b-5732606761eb"
      },
      "source": [
        "model.compile(loss = \"mse\", optimizer=\"nadam\")\n",
        "model.fit(X_train_scaled, y_train, epochs = 2, \n",
        "          validation_data = (X_valid_scaled, y_valid))\n",
        "model.evaluate(X_test_scaled, y_test)"
      ],
      "execution_count": 154,
      "outputs": [
        {
          "output_type": "stream",
          "text": [
            "Epoch 1/2\n",
            "363/363 [==============================] - 1s 1ms/step - loss: 0.4904 - val_loss: 0.5329\n",
            "Epoch 2/2\n",
            "363/363 [==============================] - 0s 1ms/step - loss: 0.4226 - val_loss: 0.4786\n",
            "162/162 [==============================] - 0s 818us/step - loss: 0.3990\n"
          ],
          "name": "stdout"
        },
        {
          "output_type": "execute_result",
          "data": {
            "text/plain": [
              "0.39900389313697815"
            ]
          },
          "metadata": {
            "tags": []
          },
          "execution_count": 154
        }
      ]
    },
    {
      "cell_type": "markdown",
      "metadata": {
        "id": "Hq8BzEj3wsG-"
      },
      "source": [
        "# **Custom Models**:"
      ]
    },
    {
      "cell_type": "code",
      "metadata": {
        "id": "ndiLDykMw01F"
      },
      "source": [
        "X_new_scaled = X_test_scaled"
      ],
      "execution_count": 155,
      "outputs": []
    },
    {
      "cell_type": "code",
      "metadata": {
        "id": "f0NLcbDYm1UU"
      },
      "source": [
        "class ResidualBlock(keras.layers.Layer):\n",
        "  def __init__(self, n_layers, n_neurons, **kwargs):\n",
        "    super().__init__(**kwargs)\n",
        "    self.hidden = [keras.layers.Dense(n_neurons, activation='elu', kernel_initializer='he_normal')\n",
        "    for _ in range(n_layers)]\n",
        "\n",
        "  def call(self, inputs):\n",
        "    Z = inputs\n",
        "    for layer in self.hidden:\n",
        "      Z = layer(Z)\n",
        "    return inputs + Z"
      ],
      "execution_count": 156,
      "outputs": []
    },
    {
      "cell_type": "code",
      "metadata": {
        "id": "6IvVRiQnpKVC"
      },
      "source": [
        "class ResidualRegressor(keras.models.Model):\n",
        "  def __init__(self, output_dim, **kwargs):\n",
        "    super().__init__(**kwargs)\n",
        "    self.hidden1 = keras.layers.Dense(30, activation = \"elu\", kernel_initializer=\"he_normal\")\n",
        "    self.block1 = ResidualBlock(2, 30)\n",
        "    self.block2 = ResidualBlock(2, 30)\n",
        "    self.out = keras.layers.Dense(output_dim)\n",
        "\n",
        "  def call(self, inputs):\n",
        "    Z = self.hidden1(inputs)\n",
        "    for _ in range(1 + 3):\n",
        "      Z = self.block1(Z)\n",
        "    Z = self.block2(Z)\n",
        "    return self.out(Z)"
      ],
      "execution_count": 157,
      "outputs": []
    },
    {
      "cell_type": "code",
      "metadata": {
        "id": "dkMPK8jaqKza"
      },
      "source": [
        "keras.backend.clear_session()\n",
        "np.random.seed(42)\n",
        "tf.random.set_seed(42)"
      ],
      "execution_count": 158,
      "outputs": []
    },
    {
      "cell_type": "code",
      "metadata": {
        "colab": {
          "base_uri": "https://localhost:8080/"
        },
        "id": "SskpHCIgq8JK",
        "outputId": "69e2825d-076d-446c-dc2a-2468469ad774"
      },
      "source": [
        "model = ResidualRegressor(1)\n",
        "model.compile(loss='mse', optimizer='nadam')\n",
        "history = model.fit(X_train_scaled, y_train, epochs = 5)\n",
        "score = model.evaluate(X_test_scaled, y_test)\n",
        "y_pred = model.predict(X_new_scaled)"
      ],
      "execution_count": 159,
      "outputs": [
        {
          "output_type": "stream",
          "text": [
            "Epoch 1/5\n",
            "363/363 [==============================] - 1s 2ms/step - loss: 9.1324\n",
            "Epoch 2/5\n",
            "363/363 [==============================] - 1s 2ms/step - loss: 1.0578\n",
            "Epoch 3/5\n",
            "363/363 [==============================] - 1s 2ms/step - loss: 0.8866\n",
            "Epoch 4/5\n",
            "363/363 [==============================] - 1s 2ms/step - loss: 0.5842\n",
            "Epoch 5/5\n",
            "363/363 [==============================] - 1s 2ms/step - loss: 0.6448\n",
            "162/162 [==============================] - 0s 1ms/step - loss: 0.6481\n"
          ],
          "name": "stdout"
        }
      ]
    },
    {
      "cell_type": "code",
      "metadata": {
        "colab": {
          "base_uri": "https://localhost:8080/"
        },
        "id": "WxYmuixmrt-m",
        "outputId": "1e4f68f9-0346-4e6e-b904-6ac766ef9255"
      },
      "source": [
        "model.save(\"my_custom_model.ckpt\")"
      ],
      "execution_count": 160,
      "outputs": [
        {
          "output_type": "stream",
          "text": [
            "WARNING:tensorflow:From /usr/local/lib/python3.6/dist-packages/tensorflow/python/training/tracking/tracking.py:111: Model.state_updates (from tensorflow.python.keras.engine.training) is deprecated and will be removed in a future version.\n",
            "Instructions for updating:\n",
            "This property should not be used in TensorFlow 2.0, as updates are applied automatically.\n",
            "WARNING:tensorflow:From /usr/local/lib/python3.6/dist-packages/tensorflow/python/training/tracking/tracking.py:111: Layer.updates (from tensorflow.python.keras.engine.base_layer) is deprecated and will be removed in a future version.\n",
            "Instructions for updating:\n",
            "This property should not be used in TensorFlow 2.0, as updates are applied automatically.\n",
            "INFO:tensorflow:Assets written to: my_custom_model.ckpt/assets\n"
          ],
          "name": "stdout"
        }
      ]
    },
    {
      "cell_type": "code",
      "metadata": {
        "id": "KjfGUmQvsAcO"
      },
      "source": [
        "model = keras.models.load_model(\"my_custom_model.ckpt\")"
      ],
      "execution_count": 161,
      "outputs": []
    },
    {
      "cell_type": "code",
      "metadata": {
        "colab": {
          "base_uri": "https://localhost:8080/"
        },
        "id": "u6fq_PZBsHka",
        "outputId": "faef8043-f28d-41b8-ea86-64784b20875e"
      },
      "source": [
        "history = model.fit(X_train_scaled, y_train, epochs = 5)"
      ],
      "execution_count": 162,
      "outputs": [
        {
          "output_type": "stream",
          "text": [
            "Epoch 1/5\n",
            "363/363 [==============================] - 1s 2ms/step - loss: 0.9154\n",
            "Epoch 2/5\n",
            "363/363 [==============================] - 1s 2ms/step - loss: 0.4779\n",
            "Epoch 3/5\n",
            "363/363 [==============================] - 1s 2ms/step - loss: 0.4867\n",
            "Epoch 4/5\n",
            "363/363 [==============================] - 1s 2ms/step - loss: 0.5609\n",
            "Epoch 5/5\n",
            "363/363 [==============================] - 1s 2ms/step - loss: 0.5365\n"
          ],
          "name": "stdout"
        }
      ]
    },
    {
      "cell_type": "code",
      "metadata": {
        "id": "d6TsJvhssmUb"
      },
      "source": [
        "keras.backend.clear_session()\n",
        "np.random.seed(42)\n",
        "tf.random.set_seed(42)"
      ],
      "execution_count": 163,
      "outputs": []
    },
    {
      "cell_type": "code",
      "metadata": {
        "id": "dh2HeQMqstSV"
      },
      "source": [
        "block1 = ResidualBlock(2, 30)\n",
        "model = keras.models.Sequential([keras.layers.Dense(30, activation=\"elu\",\n",
        "                                                    kernel_initializer=\"he_normal\"), \n",
        "                                 block1, block1, block1, block1,\n",
        "                                 ResidualBlock(2, 30),\n",
        "                                 keras.layers.Dense(1)])"
      ],
      "execution_count": 164,
      "outputs": []
    },
    {
      "cell_type": "code",
      "metadata": {
        "colab": {
          "base_uri": "https://localhost:8080/"
        },
        "id": "Ks7-vnujtLiC",
        "outputId": "3504ff15-eef4-40ae-d2ba-39f9bc27964a"
      },
      "source": [
        "model.compile(loss = \"mse\", optimizer=\"nadam\")\n",
        "history = model.fit(X_train_scaled, y_train, epochs = 5)\n",
        "score = model.evaluate(X_test_scaled, y_test)\n",
        "y_pred = model.predict(X_new_scaled)"
      ],
      "execution_count": 165,
      "outputs": [
        {
          "output_type": "stream",
          "text": [
            "Epoch 1/5\n",
            "363/363 [==============================] - 0s 1ms/step - loss: 0.8695\n",
            "Epoch 2/5\n",
            "363/363 [==============================] - 1s 1ms/step - loss: 0.4720\n",
            "Epoch 3/5\n",
            "363/363 [==============================] - 0s 1ms/step - loss: 0.5537\n",
            "Epoch 4/5\n",
            "363/363 [==============================] - 1s 1ms/step - loss: 0.3809\n",
            "Epoch 5/5\n",
            "363/363 [==============================] - 1s 1ms/step - loss: 0.4012\n",
            "162/162 [==============================] - 0s 871us/step - loss: 0.4852\n"
          ],
          "name": "stdout"
        }
      ]
    },
    {
      "cell_type": "markdown",
      "metadata": {
        "id": "8WTU0B5av59-"
      },
      "source": [
        "# **Losses and Metrics Based on Model Internals**\n",
        "\n",
        "The custom losses and metrics we defined earlier were all based on the labels and the predictions (an optionally sample weights). There will be times when you want to define losses based on other parts of your model, such as the weights or activations of its hidden layers. This may be useful for regularization purposes or to monitor some internal aspect of your model.\n",
        "\n",
        "To define a custom loss based on models internals, compute it based on any part of the model you want, then pass the result to the ```add_loss()``` method. For example, let's build a custom regression MLP model composed of a stack of five hidden layers plus an output layer. This custom model will also have an auxiliary output on top of the upper hidden layer. The loss associated to this auxiliary output will be called that *reconstruction loss*: it is the mean squared difference between the reconstruction and the inputs. By adding this reconstruction loss to the main loss, we will encourage the model to preserve as much information as possible through the hidden layers - even information that is not directly useful for the regression task itself. In practice, this loss sometimes improves generalization (it is a regularization loss)."
      ]
    },
    {
      "cell_type": "code",
      "metadata": {
        "id": "fmWKD-gz4Mlz"
      },
      "source": [
        "class ReconstructingRegressor(keras.models.Model):\n",
        "    def __init__(self, output_dim, **kwargs):\n",
        "        super().__init__(**kwargs)\n",
        "        self.hidden = [keras.layers.Dense(30, activation=\"selu\",\n",
        "                                          kernel_initializer=\"lecun_normal\")\n",
        "                       for _ in range(5)]\n",
        "        self.out = keras.layers.Dense(output_dim)\n",
        "        # TODO: check https://github.com/tensorflow/tensorflow/issues/26260\n",
        "        self.reconstruction_mean = keras.metrics.Mean(name=\"reconstruction_error\")\n",
        "\n",
        "    def build(self, batch_input_shape):\n",
        "        n_inputs = batch_input_shape[-1]\n",
        "        self.reconstruct = keras.layers.Dense(n_inputs)\n",
        "        super().build(batch_input_shape)\n",
        "\n",
        "    def call(self, inputs, training=None):\n",
        "        Z = inputs\n",
        "        for layer in self.hidden:\n",
        "            Z = layer(Z)\n",
        "        reconstruction = self.reconstruct(Z)\n",
        "        recon_loss = tf.reduce_mean(tf.square(reconstruction - inputs))\n",
        "        self.add_loss(0.05 * recon_loss)\n",
        "        if training:\n",
        "            result = self.reconstruction_mean(recon_loss)\n",
        "            self.add_metric(result)\n",
        "        return self.out(Z)"
      ],
      "execution_count": 166,
      "outputs": []
    },
    {
      "cell_type": "markdown",
      "metadata": {
        "id": "FVyLuccE-smk"
      },
      "source": [
        "Let’s go through this code:\n",
        "\n",
        "* The constructor creates the DNN with five dense hidden layers and one dense\n",
        "output layer.\n",
        "• The ```build()``` method creates an extra dense layer which will be used to reconstruct\n",
        "the inputs of the model. It must be created here because its number of units\n",
        "must be equal to the number of inputs, and this number is unknown before the\n",
        "```build()``` method is called.\n",
        "* The ```call()``` method processes the inputs through all five hidden layers, then\n",
        "passes the result through the reconstruction layer, which produces the reconstruction.\n",
        "* Then the ```call()``` method computes the reconstruction loss (the mean squared\n",
        "difference between the reconstruction and the inputs), and adds it to the model’s\n",
        "list of losses using the ```add_loss()``` method.11 Notice that we scale down the\n",
        "reconstruction loss by multiplying it by 0.05 (this is a hyperparameter you can\n",
        "tune). This ensures that the reconstruction loss does not dominate the main loss.\n",
        "* Finally, the ```call()``` method passes the output of the hidden layers to the output\n",
        "layer and returns its output."
      ]
    },
    {
      "cell_type": "code",
      "metadata": {
        "id": "CXY12vRR8TFB"
      },
      "source": [
        "keras.backend.clear_session()\n",
        "np.random.seed(42)\n",
        "tf.random.set_seed(42)"
      ],
      "execution_count": 167,
      "outputs": []
    },
    {
      "cell_type": "code",
      "metadata": {
        "id": "X_aq5vI88awa"
      },
      "source": [
        "#model = ReconstructingRegressor(1)\n",
        "#model.compile(loss=\"mse\", optimizer=\"nadam\")\n",
        "#history = model.fit(X_train_scaled, y_train, epochs=2)\n",
        "#y_pred = model.predict(X_test_scaled)"
      ],
      "execution_count": 168,
      "outputs": []
    },
    {
      "cell_type": "markdown",
      "metadata": {
        "id": "8QFvrWFCDxXO"
      },
      "source": [
        "# **Computing Gradients with Autodiff**\n",
        "\n",
        "To understand how to use autodiff to compute gradients automatically, let's consider a simple toy function:"
      ]
    },
    {
      "cell_type": "code",
      "metadata": {
        "id": "IfEGoloSjGgi"
      },
      "source": [
        "def f(w1, w2):\n",
        "  return 3*w1**2 + 2*w1*w2"
      ],
      "execution_count": 169,
      "outputs": []
    },
    {
      "cell_type": "markdown",
      "metadata": {
        "id": "l_nIFN4hjpJO"
      },
      "source": [
        "We can analytically find that the partial derivative of this function\n",
        "with regard to w1 is 6 * w1 + 2 * w2. You can also find that its partial derivative\n",
        "with regard to w2 is 2 * w1. For example, at the point (w1, w2) = (5, 3), these partial\n",
        "derivatives are equal to 36 and 10, respectively, so the gradient vector at this point\n",
        "is (36, 10). But if this were a neural network, the function would be much more complex,\n",
        "typically with tens of thousands of parameters, and finding the partial derivatives\n",
        "analytically by hand would be an almost impossible task. One solution could be\n",
        "to compute an approximation of each partial derivative by measuring how much the\n",
        "function’s output changes when you tweak the corresponding parameter:"
      ]
    },
    {
      "cell_type": "code",
      "metadata": {
        "colab": {
          "base_uri": "https://localhost:8080/"
        },
        "id": "og8ERelvj3wz",
        "outputId": "1ac1b082-ab6d-4af1-9fea-9953ef44a001"
      },
      "source": [
        "w1, w2 = 5, 3\n",
        "eps = 1e-6\n",
        "(f(w1 + eps, w2) - f(w1, w2))/eps"
      ],
      "execution_count": 170,
      "outputs": [
        {
          "output_type": "execute_result",
          "data": {
            "text/plain": [
              "36.000003007075065"
            ]
          },
          "metadata": {
            "tags": []
          },
          "execution_count": 170
        }
      ]
    },
    {
      "cell_type": "code",
      "metadata": {
        "colab": {
          "base_uri": "https://localhost:8080/"
        },
        "id": "Ij97T1LlkIDC",
        "outputId": "cbe438e7-60bf-4043-eab5-d16f5b44335a"
      },
      "source": [
        "(f(w1, w2+eps) - f(w1, w2))/eps"
      ],
      "execution_count": 171,
      "outputs": [
        {
          "output_type": "execute_result",
          "data": {
            "text/plain": [
              "10.000000003174137"
            ]
          },
          "metadata": {
            "tags": []
          },
          "execution_count": 171
        }
      ]
    },
    {
      "cell_type": "markdown",
      "metadata": {
        "id": "QeDvw6iJVfZ-"
      },
      "source": [
        "Looks about right! This works rather well and is easy to implement, but it is just an\n",
        "approximation, and importantly you need to call ```f()``` at least once per parameter (not\n",
        "twice, since we could compute ```f(w1, w2)``` just once). Needing to call ```f()``` at least once\n",
        "per parameter makes this approach intractable for large neural networks. So instead,\n",
        "we should use autodiff. TensorFlow makes this pretty simple:"
      ]
    },
    {
      "cell_type": "code",
      "metadata": {
        "id": "x-ns0ISNVoGS"
      },
      "source": [
        "w1, w2 = tf.Variable(5.), tf.Variable(3.)\n",
        "with tf.GradientTape() as tape:\n",
        "  z = f(w1, w2)\n",
        "\n",
        "gradients = tape.gradient(z, [w1, w2])"
      ],
      "execution_count": 172,
      "outputs": []
    },
    {
      "cell_type": "markdown",
      "metadata": {
        "id": "fZz6axDSXOWT"
      },
      "source": [
        "We first define two variables ```w1``` and ```w2```, then we create a ```tf.GradientTape``` context\n",
        "that will automatically record every operation that involves a variable, and finally we\n",
        "ask this tape to compute the gradients of the result z with regard to both variables\n",
        "```[w1, w2]```."
      ]
    },
    {
      "cell_type": "code",
      "metadata": {
        "colab": {
          "base_uri": "https://localhost:8080/"
        },
        "id": "Nwed5yINV99f",
        "outputId": "8bcfcfc1-2c5b-45b8-8199-1254c5fa4715"
      },
      "source": [
        "gradients"
      ],
      "execution_count": 173,
      "outputs": [
        {
          "output_type": "execute_result",
          "data": {
            "text/plain": [
              "[<tf.Tensor: shape=(), dtype=float32, numpy=36.0>,\n",
              " <tf.Tensor: shape=(), dtype=float32, numpy=10.0>]"
            ]
          },
          "metadata": {
            "tags": []
          },
          "execution_count": 173
        }
      ]
    },
    {
      "cell_type": "code",
      "metadata": {
        "id": "zkY4wEKvWAkK"
      },
      "source": [
        "with tf.GradientTape(persistent = True) as tape:\n",
        "  z = f(w1, w2)\n",
        "\n",
        "dz_dw1 = tape.gradient(z, w1)\n",
        "dz_dw2 = tape.gradient(z, w2)"
      ],
      "execution_count": 174,
      "outputs": []
    },
    {
      "cell_type": "code",
      "metadata": {
        "colab": {
          "base_uri": "https://localhost:8080/"
        },
        "id": "UP4FSuxmWOv1",
        "outputId": "3397ef7c-9c43-4bf3-bd12-7f62bbb7a830"
      },
      "source": [
        "dz_dw1, dz_dw2"
      ],
      "execution_count": 175,
      "outputs": [
        {
          "output_type": "execute_result",
          "data": {
            "text/plain": [
              "(<tf.Tensor: shape=(), dtype=float32, numpy=36.0>,\n",
              " <tf.Tensor: shape=(), dtype=float32, numpy=10.0>)"
            ]
          },
          "metadata": {
            "tags": []
          },
          "execution_count": 175
        }
      ]
    },
    {
      "cell_type": "code",
      "metadata": {
        "id": "2dOzZTcxWWlq"
      },
      "source": [
        "c1, c2 = tf.constant(5.), tf.constant(3.)\n",
        "with tf.GradientTape() as tape:\n",
        "  z = f(c1, c2)\n",
        "\n",
        "gradients = tape.gradient(z, [c1, c2])"
      ],
      "execution_count": 176,
      "outputs": []
    },
    {
      "cell_type": "code",
      "metadata": {
        "colab": {
          "base_uri": "https://localhost:8080/"
        },
        "id": "AjhaMD56WmpO",
        "outputId": "1d4c4d6a-4f06-4b30-c4fd-98a51f337813"
      },
      "source": [
        "gradients"
      ],
      "execution_count": 177,
      "outputs": [
        {
          "output_type": "execute_result",
          "data": {
            "text/plain": [
              "[None, None]"
            ]
          },
          "metadata": {
            "tags": []
          },
          "execution_count": 177
        }
      ]
    },
    {
      "cell_type": "code",
      "metadata": {
        "id": "E_SS3TdvWxlh"
      },
      "source": [
        "with tf.GradientTape() as tape:\n",
        "  tape.watch(c1)\n",
        "  tape.watch(c2)\n",
        "  z = f(c1, c2)\n",
        "\n",
        "gradients = tape.gradient(z, [c1, c2])"
      ],
      "execution_count": 178,
      "outputs": []
    },
    {
      "cell_type": "code",
      "metadata": {
        "colab": {
          "base_uri": "https://localhost:8080/"
        },
        "id": "I8gXVyTwXkj5",
        "outputId": "b403b66a-0600-4f7a-bb2e-85d3d08d30a0"
      },
      "source": [
        "gradients"
      ],
      "execution_count": 179,
      "outputs": [
        {
          "output_type": "execute_result",
          "data": {
            "text/plain": [
              "[<tf.Tensor: shape=(), dtype=float32, numpy=36.0>,\n",
              " <tf.Tensor: shape=(), dtype=float32, numpy=10.0>]"
            ]
          },
          "metadata": {
            "tags": []
          },
          "execution_count": 179
        }
      ]
    },
    {
      "cell_type": "code",
      "metadata": {
        "colab": {
          "base_uri": "https://localhost:8080/"
        },
        "id": "wbWHKPZcXs4u",
        "outputId": "e955baac-7902-4ee7-f453-a6b91ffe10e9"
      },
      "source": [
        "with tf.GradientTape() as tape:\n",
        "  z1 = f(w1, w2 + 2.)\n",
        "  z2 = f(w1, w2 + 5.)\n",
        "  z3 = f(w1, w2 + 7.)\n",
        "\n",
        "tape.gradient([z1, z2, z3], [w1, w2])"
      ],
      "execution_count": 180,
      "outputs": [
        {
          "output_type": "execute_result",
          "data": {
            "text/plain": [
              "[<tf.Tensor: shape=(), dtype=float32, numpy=136.0>,\n",
              " <tf.Tensor: shape=(), dtype=float32, numpy=30.0>]"
            ]
          },
          "metadata": {
            "tags": []
          },
          "execution_count": 180
        }
      ]
    },
    {
      "cell_type": "code",
      "metadata": {
        "id": "qRyWAmZgYqEX"
      },
      "source": [
        "with tf.GradientTape(persistent = True) as tape:\n",
        "  z1 = f(w1, w2 + 2.)\n",
        "  z2 = f(w1, w2 + 5.)\n",
        "  z3 = f(w1, w2 + 7.)\n",
        "\n",
        "tf.reduce_sum(tf.stack([tape.gradient(z, [w1, w2]) for z in (z1, z2, z3)]), axis = 0)\n",
        "del tape"
      ],
      "execution_count": 181,
      "outputs": []
    },
    {
      "cell_type": "code",
      "metadata": {
        "colab": {
          "base_uri": "https://localhost:8080/"
        },
        "id": "JWAuBtI7bFBy",
        "outputId": "b81daad7-abcf-49bc-9ba0-d35880316758"
      },
      "source": [
        "with tf.GradientTape(persistent=True) as hessian_tape:\n",
        "  with tf.GradientTape() as jacobian_tape:\n",
        "    z = f(w1, w2)\n",
        "  jacobians = jacobian_tape.gradient(z, [w1, w2])\n",
        "hessians = [hessian_tape.gradient(jacobian, [w1, w2])\n",
        "for jacobian in jacobians]\n",
        "hessians"
      ],
      "execution_count": 182,
      "outputs": [
        {
          "output_type": "execute_result",
          "data": {
            "text/plain": [
              "[[<tf.Tensor: shape=(), dtype=float32, numpy=6.0>,\n",
              "  <tf.Tensor: shape=(), dtype=float32, numpy=2.0>],\n",
              " [<tf.Tensor: shape=(), dtype=float32, numpy=2.0>, None]]"
            ]
          },
          "metadata": {
            "tags": []
          },
          "execution_count": 182
        }
      ]
    },
    {
      "cell_type": "code",
      "metadata": {
        "colab": {
          "base_uri": "https://localhost:8080/"
        },
        "id": "7uxyhoAkbnwm",
        "outputId": "24d18b73-8cc9-4cb5-9c3c-3f5f6eca598c"
      },
      "source": [
        "jacobians"
      ],
      "execution_count": 183,
      "outputs": [
        {
          "output_type": "execute_result",
          "data": {
            "text/plain": [
              "[<tf.Tensor: shape=(), dtype=float32, numpy=36.0>,\n",
              " <tf.Tensor: shape=(), dtype=float32, numpy=10.0>]"
            ]
          },
          "metadata": {
            "tags": []
          },
          "execution_count": 183
        }
      ]
    },
    {
      "cell_type": "code",
      "metadata": {
        "colab": {
          "base_uri": "https://localhost:8080/"
        },
        "id": "Ki761FJfbrCW",
        "outputId": "da17caa0-cc7e-4e20-9720-995b09a1dad5"
      },
      "source": [
        "def f(w1, w2):\n",
        "  return 3*w1**2 + tf.stop_gradient(2*w1*w2)\n",
        "\n",
        "with tf.GradientTape() as tape:\n",
        "  z = f(w1, w2)\n",
        "\n",
        "tape.gradient(z, [w1, w2])"
      ],
      "execution_count": 184,
      "outputs": [
        {
          "output_type": "execute_result",
          "data": {
            "text/plain": [
              "[<tf.Tensor: shape=(), dtype=float32, numpy=30.0>, None]"
            ]
          },
          "metadata": {
            "tags": []
          },
          "execution_count": 184
        }
      ]
    },
    {
      "cell_type": "code",
      "metadata": {
        "colab": {
          "base_uri": "https://localhost:8080/"
        },
        "id": "nofG376rb7SF",
        "outputId": "d8835eb2-7b2a-450d-b2a4-dd651a0ab444"
      },
      "source": [
        "x = tf.Variable(100.)\n",
        "with tf.GradientTape() as tape:\n",
        "  z = my_softplus(x)\n",
        "\n",
        "tape.gradient(z, [x])"
      ],
      "execution_count": 185,
      "outputs": [
        {
          "output_type": "execute_result",
          "data": {
            "text/plain": [
              "[<tf.Tensor: shape=(), dtype=float32, numpy=nan>]"
            ]
          },
          "metadata": {
            "tags": []
          },
          "execution_count": 185
        }
      ]
    },
    {
      "cell_type": "code",
      "metadata": {
        "colab": {
          "base_uri": "https://localhost:8080/"
        },
        "id": "sgEAnr4kcL1d",
        "outputId": "dbc3ef78-8ef0-4537-d1d8-8eb9d66c4770"
      },
      "source": [
        "tf.math.log(tf.exp(tf.constant(30., dtype=tf.float32)) + 1.)"
      ],
      "execution_count": 186,
      "outputs": [
        {
          "output_type": "execute_result",
          "data": {
            "text/plain": [
              "<tf.Tensor: shape=(), dtype=float32, numpy=30.0>"
            ]
          },
          "metadata": {
            "tags": []
          },
          "execution_count": 186
        }
      ]
    },
    {
      "cell_type": "code",
      "metadata": {
        "colab": {
          "base_uri": "https://localhost:8080/"
        },
        "id": "nciK-mBMcXCP",
        "outputId": "4ef380e9-738a-4478-d6c5-07186a7c7bfa"
      },
      "source": [
        "x = tf.Variable([100.])\n",
        "with tf.GradientTape() as tape:\n",
        "  z = my_softplus(x)\n",
        "\n",
        "tape.gradient(z, [x])"
      ],
      "execution_count": 187,
      "outputs": [
        {
          "output_type": "execute_result",
          "data": {
            "text/plain": [
              "[<tf.Tensor: shape=(1,), dtype=float32, numpy=array([nan], dtype=float32)>]"
            ]
          },
          "metadata": {
            "tags": []
          },
          "execution_count": 187
        }
      ]
    },
    {
      "cell_type": "code",
      "metadata": {
        "id": "MpI7MgFadA4H"
      },
      "source": [
        "@tf.custom_gradient\n",
        "def my_better_softplus(z):\n",
        "  exp = tf.exp(z)\n",
        "  def my_softplus_gradients(grad):\n",
        "    return grad/(1+1/exp)\n",
        "  return tf.math.log(exp + 1), my_softplus_gradients"
      ],
      "execution_count": 188,
      "outputs": []
    },
    {
      "cell_type": "code",
      "metadata": {
        "id": "UMse3Iejdp5E"
      },
      "source": [
        "def my_better_softplus(z):\n",
        "  return tf.where(z > 30., z, tf.math.log(tf.exp(z) + 1.))"
      ],
      "execution_count": 189,
      "outputs": []
    },
    {
      "cell_type": "code",
      "metadata": {
        "colab": {
          "base_uri": "https://localhost:8080/"
        },
        "id": "YfqRUQjjdz1d",
        "outputId": "ecf8b856-9913-4ba1-d92f-7877b6e729f8"
      },
      "source": [
        "x = tf.Variable([1000.])\n",
        "with tf.GradientTape() as tape:\n",
        "  z = my_better_softplus(x)\n",
        "\n",
        "z, tape.gradient(z, [x])"
      ],
      "execution_count": 190,
      "outputs": [
        {
          "output_type": "execute_result",
          "data": {
            "text/plain": [
              "(<tf.Tensor: shape=(1,), dtype=float32, numpy=array([1000.], dtype=float32)>,\n",
              " [<tf.Tensor: shape=(1,), dtype=float32, numpy=array([nan], dtype=float32)>])"
            ]
          },
          "metadata": {
            "tags": []
          },
          "execution_count": 190
        }
      ]
    },
    {
      "cell_type": "markdown",
      "metadata": {
        "id": "HUcKGtJbfQuD"
      },
      "source": [
        "# **Computing Gradients Using Autodiff**\n"
      ]
    },
    {
      "cell_type": "code",
      "metadata": {
        "id": "aQZQqGOHfbBB"
      },
      "source": [
        "keras.backend.clear_session()\n",
        "np.random.seed(42)\n",
        "tf.random.set_seed(42)"
      ],
      "execution_count": 191,
      "outputs": []
    },
    {
      "cell_type": "code",
      "metadata": {
        "id": "Q0dPsUcNfoaq"
      },
      "source": [
        "l2_reg = keras.regularizers.l2(0.05)\n",
        "model = keras.models.Sequential([\n",
        "                                 keras.layers.Dense(30, activation = \"elu\",\n",
        "                                                    kernel_initializer=\"he_normal\",\n",
        "                                                    kernel_regularizer=l2_reg),\n",
        "                                 keras.layers.Dense(1, kernel_regularizer=l2_reg)\n",
        "])"
      ],
      "execution_count": 192,
      "outputs": []
    },
    {
      "cell_type": "code",
      "metadata": {
        "id": "CCL29AETgCMV"
      },
      "source": [
        "def random_batch(X, y, batch_size=32):\n",
        "  idx = np.random.randint(len(X), size=batch_size)\n",
        "  return X[idx], y[idx]"
      ],
      "execution_count": 193,
      "outputs": []
    },
    {
      "cell_type": "code",
      "metadata": {
        "id": "HeD7twcwgPhU"
      },
      "source": [
        "def print_status_bar(iteration, total, loss, metrics = None):\n",
        "  metrics = \"-\".join([\"{}: {:.4f}\".format(m.name, m.result()) for m in [loss] + (metrics or [])])\n",
        "  end = \"\" if iteration < total else \"\\n\"\n",
        "  print(\"\\r{}/{} - \".format(iteration, total) + metrics, end = end)"
      ],
      "execution_count": 194,
      "outputs": []
    },
    {
      "cell_type": "code",
      "metadata": {
        "colab": {
          "base_uri": "https://localhost:8080/"
        },
        "id": "7ICId2-9hBMN",
        "outputId": "0ae18b1f-b4f5-457d-c6df-a51bdb3c92bf"
      },
      "source": [
        "import time\n",
        "\n",
        "mean_loss = keras.metrics.Mean(name = \"loss\")\n",
        "mean_square = keras.metrics.Mean(name = \"mean_square\")\n",
        "for i in range(1, 50 + 1):\n",
        "  loss = 1/i\n",
        "  mean_loss(loss)\n",
        "  mean_square(i**2)\n",
        "  print_status_bar(i, 50, mean_loss, [mean_square])\n",
        "  time.sleep(0.05)"
      ],
      "execution_count": 195,
      "outputs": [
        {
          "output_type": "stream",
          "text": [
            "50/50 - loss: 0.0900-mean_square: 858.5000\n"
          ],
          "name": "stdout"
        }
      ]
    },
    {
      "cell_type": "code",
      "metadata": {
        "id": "Fz5kjWrPhofE"
      },
      "source": [
        "#Fancier version with a progress bar:\n",
        "def progress_bar(iteration, total, size=30):\n",
        "  running = iteration < total\n",
        "  c = \">\" if running else \"=\"\n",
        "  p = (size - 1)*iteration//total\n",
        "  fmt = \"{{:-{}d}}/{{}} [{{}}]\".format(len(str(total)))\n",
        "  params = [iteration, total, \"=\" * p + c + \".\" * (size - p - 1)]\n",
        "  return fmt.format(*params)"
      ],
      "execution_count": 196,
      "outputs": []
    },
    {
      "cell_type": "code",
      "metadata": {
        "colab": {
          "base_uri": "https://localhost:8080/"
        },
        "id": "olaUgmOvikVW",
        "outputId": "aa914cc9-ab3e-4b30-fe30-bc50c489743b"
      },
      "source": [
        "progress_bar"
      ],
      "execution_count": 197,
      "outputs": [
        {
          "output_type": "execute_result",
          "data": {
            "text/plain": [
              "<function __main__.progress_bar>"
            ]
          },
          "metadata": {
            "tags": []
          },
          "execution_count": 197
        }
      ]
    },
    {
      "cell_type": "code",
      "metadata": {
        "id": "Fbjyxcllin7C"
      },
      "source": [
        "def print_status_bar(iteration, total, loss, metrics = None, size = 30):\n",
        "  metrics = \" - \".join([\"{}: {:.4f}\".format(m.name, m.result()) for m in [loss] + (metrics or [])])\n",
        "  end = \"\" if iteration < total else \"\\n\"\n",
        "  print(\"r{} - {}\".format(progress_bar(iteration, total), metrics), end = end)"
      ],
      "execution_count": 198,
      "outputs": []
    },
    {
      "cell_type": "code",
      "metadata": {
        "colab": {
          "base_uri": "https://localhost:8080/"
        },
        "id": "R2euesXFjWvb",
        "outputId": "b0b7e45e-f603-422f-8a74-b66786e833f1"
      },
      "source": [
        "mean_loss = keras.metrics.Mean(name = \"loss\")\n",
        "mean_square  =keras.metrics.Mean(name = \"mean_square\")\n",
        "for i in range(1, 50 + 1):\n",
        "  loss = 1/i\n",
        "  mean_loss(loss)\n",
        "  mean_square(i**2)\n",
        "  print_status_bar(i, 50, mean_loss, [mean_square])\n",
        "  time.sleep(0.05)"
      ],
      "execution_count": 199,
      "outputs": [
        {
          "output_type": "stream",
          "text": [
            "r 1/50 [>.............................] - loss: 1.0000 - mean_square: 1.0000r 2/50 [=>............................] - loss: 0.7500 - mean_square: 2.5000r 3/50 [=>............................] - loss: 0.6111 - mean_square: 4.6667r 4/50 [==>...........................] - loss: 0.5208 - mean_square: 7.5000r 5/50 [==>...........................] - loss: 0.4567 - mean_square: 11.0000r 6/50 [===>..........................] - loss: 0.4083 - mean_square: 15.1667r 7/50 [====>.........................] - loss: 0.3704 - mean_square: 20.0000r 8/50 [====>.........................] - loss: 0.3397 - mean_square: 25.5000r 9/50 [=====>........................] - loss: 0.3143 - mean_square: 31.6667r10/50 [=====>........................] - loss: 0.2929 - mean_square: 38.5000r11/50 [======>.......................] - loss: 0.2745 - mean_square: 46.0000r12/50 [======>.......................] - loss: 0.2586 - mean_square: 54.1667r13/50 [=======>......................] - loss: 0.2446 - mean_square: 63.0000r14/50 [========>.....................] - loss: 0.2323 - mean_square: 72.5000r15/50 [========>.....................] - loss: 0.2212 - mean_square: 82.6667r16/50 [=========>....................] - loss: 0.2113 - mean_square: 93.5000r17/50 [=========>....................] - loss: 0.2023 - mean_square: 105.0000r18/50 [==========>...................] - loss: 0.1942 - mean_square: 117.1667r19/50 [===========>..................] - loss: 0.1867 - mean_square: 130.0000r20/50 [===========>..................] - loss: 0.1799 - mean_square: 143.5000r21/50 [============>.................] - loss: 0.1736 - mean_square: 157.6667r22/50 [============>.................] - loss: 0.1678 - mean_square: 172.5000r23/50 [=============>................] - loss: 0.1624 - mean_square: 188.0000r24/50 [=============>................] - loss: 0.1573 - mean_square: 204.1667r25/50 [==============>...............] - loss: 0.1526 - mean_square: 221.0000r26/50 [===============>..............] - loss: 0.1482 - mean_square: 238.5000r27/50 [===============>..............] - loss: 0.1441 - mean_square: 256.6667r28/50 [================>.............] - loss: 0.1403 - mean_square: 275.5000r29/50 [================>.............] - loss: 0.1366 - mean_square: 295.0000r30/50 [=================>............] - loss: 0.1332 - mean_square: 315.1667r31/50 [=================>............] - loss: 0.1299 - mean_square: 336.0000r32/50 [==================>...........] - loss: 0.1268 - mean_square: 357.5000r33/50 [===================>..........] - loss: 0.1239 - mean_square: 379.6667r34/50 [===================>..........] - loss: 0.1211 - mean_square: 402.5000r35/50 [====================>.........] - loss: 0.1185 - mean_square: 426.0000r36/50 [====================>.........] - loss: 0.1160 - mean_square: 450.1667r37/50 [=====================>........] - loss: 0.1136 - mean_square: 475.0000r38/50 [======================>.......] - loss: 0.1113 - mean_square: 500.5000r39/50 [======================>.......] - loss: 0.1091 - mean_square: 526.6667r40/50 [=======================>......] - loss: 0.1070 - mean_square: 553.5000r41/50 [=======================>......] - loss: 0.1049 - mean_square: 581.0000r42/50 [========================>.....] - loss: 0.1030 - mean_square: 609.1667r43/50 [========================>.....] - loss: 0.1012 - mean_square: 638.0000r44/50 [=========================>....] - loss: 0.0994 - mean_square: 667.5000r45/50 [==========================>...] - loss: 0.0977 - mean_square: 697.6667r46/50 [==========================>...] - loss: 0.0960 - mean_square: 728.5000r47/50 [===========================>..] - loss: 0.0944 - mean_square: 760.0000r48/50 [===========================>..] - loss: 0.0929 - mean_square: 792.1667r49/50 [============================>.] - loss: 0.0914 - mean_square: 825.0000r50/50 [==============================] - loss: 0.0900 - mean_square: 858.5000\n"
          ],
          "name": "stdout"
        }
      ]
    },
    {
      "cell_type": "code",
      "metadata": {
        "id": "24N5cWyRmds4"
      },
      "source": [
        "keras.backend.clear_session()\n",
        "np.random.seed(42)\n",
        "tf.random.set_seed(42)"
      ],
      "execution_count": 200,
      "outputs": []
    },
    {
      "cell_type": "code",
      "metadata": {
        "id": "LwQC3YmDmnvi"
      },
      "source": [
        "n_epochs = 5\n",
        "batch_size = 32\n",
        "n_steps = len(X_train)//batch_size\n",
        "optimizer = keras.optimizers.Nadam(lr = 0.01)\n",
        "loss_fn = keras.losses.mean_squared_error\n",
        "mean_loss = keras.metrics.Mean()\n",
        "metrics = [keras.metrics.MeanAbsoluteError()]"
      ],
      "execution_count": 201,
      "outputs": []
    },
    {
      "cell_type": "code",
      "metadata": {
        "id": "Xia6TT7mnCHC"
      },
      "source": [
        "for epoch in range(1, n_epochs + 1):\n",
        "  print(\"Epoch {}/{}\".format(epoch, n_epochs))\n",
        "  for step in range(1, n_steps + 1):\n",
        "    X_batch, y_batch = random_batch(X_train_scaled, y_train)\n",
        "    with tf.GradientTape() as tape:\n",
        "      y_pred = model(X_batch)\n",
        "      main_loss = tf.reduce_mean(loss_fn(y_batch, y_pred))\n",
        "      loss = tf.add_n([main_loss] + model.losses)\n",
        "    gradients = tape.gradient(loss, model.trainable_variables)\n",
        "    optimizer.apply_gradients(zip(gradients, model.trainable_variables))\n",
        "    for variable in model.variables:\n",
        "      if variable.constraint is not None:\n",
        "        variable.assign(variable.constraint(variable))\n",
        "    mean_loss(loss)\n",
        "    for metric in metrics:\n",
        "      metric(y_batch, y_pred)\n",
        "    print_status_bar(step*batch_size, len(y_train), mean_loss, metrics)\n",
        "    print_status_bar(len(y_train), len(y_train), mean_loss, metrics)\n",
        "    for metric in [mean_loss] + metrics:\n",
        "      metric.reset_states()"
      ],
      "execution_count": null,
      "outputs": []
    },
    {
      "cell_type": "markdown",
      "metadata": {
        "id": "1F-RuXutpVqp"
      },
      "source": [
        "# **TensorFlow Functions**"
      ]
    },
    {
      "cell_type": "code",
      "metadata": {
        "id": "IKumBgDGnGO9"
      },
      "source": [
        "def cube(x):\n",
        "  return x**3"
      ],
      "execution_count": 203,
      "outputs": []
    },
    {
      "cell_type": "code",
      "metadata": {
        "colab": {
          "base_uri": "https://localhost:8080/"
        },
        "id": "0AQVhVI4pee0",
        "outputId": "9e67df60-b4fc-42ff-ea24-d83894e02236"
      },
      "source": [
        "cube(2)"
      ],
      "execution_count": 204,
      "outputs": [
        {
          "output_type": "execute_result",
          "data": {
            "text/plain": [
              "8"
            ]
          },
          "metadata": {
            "tags": []
          },
          "execution_count": 204
        }
      ]
    },
    {
      "cell_type": "code",
      "metadata": {
        "colab": {
          "base_uri": "https://localhost:8080/"
        },
        "id": "9fH9t65Bpfvv",
        "outputId": "766f5a07-560c-481c-efe6-ac700ab3fddb"
      },
      "source": [
        "cube(tf.constant(2.0))"
      ],
      "execution_count": 205,
      "outputs": [
        {
          "output_type": "execute_result",
          "data": {
            "text/plain": [
              "<tf.Tensor: shape=(), dtype=float32, numpy=8.0>"
            ]
          },
          "metadata": {
            "tags": []
          },
          "execution_count": 205
        }
      ]
    },
    {
      "cell_type": "code",
      "metadata": {
        "colab": {
          "base_uri": "https://localhost:8080/"
        },
        "id": "K9BaAHICpjXO",
        "outputId": "31bdb085-4b58-4e39-bf54-4fbf03977092"
      },
      "source": [
        "tf_cube = tf.function(cube)\n",
        "tf_cube"
      ],
      "execution_count": 206,
      "outputs": [
        {
          "output_type": "execute_result",
          "data": {
            "text/plain": [
              "<tensorflow.python.eager.def_function.Function at 0x7fb816ad5d68>"
            ]
          },
          "metadata": {
            "tags": []
          },
          "execution_count": 206
        }
      ]
    },
    {
      "cell_type": "code",
      "metadata": {
        "colab": {
          "base_uri": "https://localhost:8080/"
        },
        "id": "3MxCWH0ZprZA",
        "outputId": "7535ae9c-8095-400b-fc9f-0867cd66c636"
      },
      "source": [
        "tf_cube(2)"
      ],
      "execution_count": 207,
      "outputs": [
        {
          "output_type": "execute_result",
          "data": {
            "text/plain": [
              "<tf.Tensor: shape=(), dtype=int32, numpy=8>"
            ]
          },
          "metadata": {
            "tags": []
          },
          "execution_count": 207
        }
      ]
    },
    {
      "cell_type": "code",
      "metadata": {
        "colab": {
          "base_uri": "https://localhost:8080/"
        },
        "id": "W8s1pC1ZpuXO",
        "outputId": "2a4fb9d8-2ff8-4916-a842-2ac67dfb7597"
      },
      "source": [
        "tf_cube(tf.constant(2.0))"
      ],
      "execution_count": 208,
      "outputs": [
        {
          "output_type": "execute_result",
          "data": {
            "text/plain": [
              "<tf.Tensor: shape=(), dtype=float32, numpy=8.0>"
            ]
          },
          "metadata": {
            "tags": []
          },
          "execution_count": 208
        }
      ]
    },
    {
      "cell_type": "markdown",
      "metadata": {
        "id": "uihWUo5ep1h2"
      },
      "source": [
        "**TF Functions and Concrete Functions**"
      ]
    },
    {
      "cell_type": "code",
      "metadata": {
        "colab": {
          "base_uri": "https://localhost:8080/"
        },
        "id": "Hc8USNXOp6Gm",
        "outputId": "2cedf43a-97b3-457d-cbaa-81400f369fe5"
      },
      "source": [
        "concrete_function = tf_cube.get_concrete_function(tf.constant(2.0))\n",
        "concrete_function.graph"
      ],
      "execution_count": 209,
      "outputs": [
        {
          "output_type": "execute_result",
          "data": {
            "text/plain": [
              "<tensorflow.python.framework.func_graph.FuncGraph at 0x7fb813116f98>"
            ]
          },
          "metadata": {
            "tags": []
          },
          "execution_count": 209
        }
      ]
    },
    {
      "cell_type": "code",
      "metadata": {
        "colab": {
          "base_uri": "https://localhost:8080/"
        },
        "id": "L_2PCkGaqWUr",
        "outputId": "006c450f-8685-4f33-8ea2-2dd1a38c8823"
      },
      "source": [
        "concrete_function(tf.constant(2.0))"
      ],
      "execution_count": 210,
      "outputs": [
        {
          "output_type": "execute_result",
          "data": {
            "text/plain": [
              "<tf.Tensor: shape=(), dtype=float32, numpy=8.0>"
            ]
          },
          "metadata": {
            "tags": []
          },
          "execution_count": 210
        }
      ]
    },
    {
      "cell_type": "code",
      "metadata": {
        "colab": {
          "base_uri": "https://localhost:8080/"
        },
        "id": "xMTRdahhqa4B",
        "outputId": "8538afb5-8e5d-4ba3-8da5-caf4b0952d71"
      },
      "source": [
        "concrete_function is tf_cube.get_concrete_function(tf.constant(2.0))"
      ],
      "execution_count": 211,
      "outputs": [
        {
          "output_type": "execute_result",
          "data": {
            "text/plain": [
              "True"
            ]
          },
          "metadata": {
            "tags": []
          },
          "execution_count": 211
        }
      ]
    },
    {
      "cell_type": "markdown",
      "metadata": {
        "id": "oPlpFLKI21DB"
      },
      "source": [
        "**Exploring Function Definitions and Graphs**"
      ]
    },
    {
      "cell_type": "code",
      "metadata": {
        "colab": {
          "base_uri": "https://localhost:8080/"
        },
        "id": "QX7wEaE-20Rj",
        "outputId": "d53e068f-9cfd-46e3-ffd7-d81633de1965"
      },
      "source": [
        "concrete_function.graph"
      ],
      "execution_count": 212,
      "outputs": [
        {
          "output_type": "execute_result",
          "data": {
            "text/plain": [
              "<tensorflow.python.framework.func_graph.FuncGraph at 0x7fb813116f98>"
            ]
          },
          "metadata": {
            "tags": []
          },
          "execution_count": 212
        }
      ]
    },
    {
      "cell_type": "code",
      "metadata": {
        "colab": {
          "base_uri": "https://localhost:8080/"
        },
        "id": "N90umIwA2---",
        "outputId": "590501dc-6b5b-4afa-8f6f-79e7006c8f23"
      },
      "source": [
        "ops = concrete_function.graph.get_operations()\n",
        "ops"
      ],
      "execution_count": 213,
      "outputs": [
        {
          "output_type": "execute_result",
          "data": {
            "text/plain": [
              "[<tf.Operation 'x' type=Placeholder>,\n",
              " <tf.Operation 'pow/y' type=Const>,\n",
              " <tf.Operation 'pow' type=Pow>,\n",
              " <tf.Operation 'Identity' type=Identity>]"
            ]
          },
          "metadata": {
            "tags": []
          },
          "execution_count": 213
        }
      ]
    },
    {
      "cell_type": "code",
      "metadata": {
        "colab": {
          "base_uri": "https://localhost:8080/"
        },
        "id": "ViZpb-wf3L8B",
        "outputId": "1dc800b7-6e6b-48fe-9967-08770d358c4b"
      },
      "source": [
        "pow_op = ops[2]\n",
        "list(pow_op.inputs)"
      ],
      "execution_count": 215,
      "outputs": [
        {
          "output_type": "execute_result",
          "data": {
            "text/plain": [
              "[<tf.Tensor 'x:0' shape=() dtype=float32>,\n",
              " <tf.Tensor 'pow/y:0' shape=() dtype=float32>]"
            ]
          },
          "metadata": {
            "tags": []
          },
          "execution_count": 215
        }
      ]
    },
    {
      "cell_type": "code",
      "metadata": {
        "colab": {
          "base_uri": "https://localhost:8080/"
        },
        "id": "2zB0Bi9h3Xjv",
        "outputId": "b7ab3130-c4a8-4c31-f450-2da19246f679"
      },
      "source": [
        "pow_op.outputs"
      ],
      "execution_count": 216,
      "outputs": [
        {
          "output_type": "execute_result",
          "data": {
            "text/plain": [
              "[<tf.Tensor 'pow:0' shape=() dtype=float32>]"
            ]
          },
          "metadata": {
            "tags": []
          },
          "execution_count": 216
        }
      ]
    },
    {
      "cell_type": "code",
      "metadata": {
        "colab": {
          "base_uri": "https://localhost:8080/"
        },
        "id": "zxsCsKll3dMg",
        "outputId": "733ce92e-7e9f-461a-e389-22115de104c4"
      },
      "source": [
        "concrete_function.graph.get_operation_by_name('x')"
      ],
      "execution_count": 217,
      "outputs": [
        {
          "output_type": "execute_result",
          "data": {
            "text/plain": [
              "<tf.Operation 'x' type=Placeholder>"
            ]
          },
          "metadata": {
            "tags": []
          },
          "execution_count": 217
        }
      ]
    },
    {
      "cell_type": "code",
      "metadata": {
        "colab": {
          "base_uri": "https://localhost:8080/"
        },
        "id": "7Cdg2RE43ksl",
        "outputId": "81bd0a90-d651-49cc-dcb3-76c533e9e98d"
      },
      "source": [
        "concrete_function.graph.get_tensor_by_name(\"Identity:0\")"
      ],
      "execution_count": 218,
      "outputs": [
        {
          "output_type": "execute_result",
          "data": {
            "text/plain": [
              "<tf.Tensor 'Identity:0' shape=() dtype=float32>"
            ]
          },
          "metadata": {
            "tags": []
          },
          "execution_count": 218
        }
      ]
    },
    {
      "cell_type": "code",
      "metadata": {
        "colab": {
          "base_uri": "https://localhost:8080/"
        },
        "id": "7QKG57Po3tr6",
        "outputId": "7c4b1a3d-d6ac-4108-baa4-c9bbe025a537"
      },
      "source": [
        "concrete_function.function_def.signature"
      ],
      "execution_count": 219,
      "outputs": [
        {
          "output_type": "execute_result",
          "data": {
            "text/plain": [
              "name: \"__inference_cube_621963\"\n",
              "input_arg {\n",
              "  name: \"x\"\n",
              "  type: DT_FLOAT\n",
              "}\n",
              "output_arg {\n",
              "  name: \"identity\"\n",
              "  type: DT_FLOAT\n",
              "}"
            ]
          },
          "metadata": {
            "tags": []
          },
          "execution_count": 219
        }
      ]
    },
    {
      "cell_type": "markdown",
      "metadata": {
        "id": "D32UZ2ql6hj6"
      },
      "source": [
        "**How TensorFlow Function traces Python Functions to Extract their Computation Graphs**"
      ]
    },
    {
      "cell_type": "code",
      "metadata": {
        "id": "CUQHgXSO6hL3"
      },
      "source": [
        "@tf.function\n",
        "def tf_cube(x):\n",
        "  print(\"print:\", x)\n",
        "  return x**3"
      ],
      "execution_count": 220,
      "outputs": []
    },
    {
      "cell_type": "code",
      "metadata": {
        "colab": {
          "base_uri": "https://localhost:8080/"
        },
        "id": "X-hox-7S61rX",
        "outputId": "7e9d17d3-28ab-4698-ecdd-70d19b8567e4"
      },
      "source": [
        "result = tf_cube(tf.constant(2.0))"
      ],
      "execution_count": 221,
      "outputs": [
        {
          "output_type": "stream",
          "text": [
            "print: Tensor(\"x:0\", shape=(), dtype=float32)\n"
          ],
          "name": "stdout"
        }
      ]
    },
    {
      "cell_type": "code",
      "metadata": {
        "colab": {
          "base_uri": "https://localhost:8080/"
        },
        "id": "AP_76OrQ676z",
        "outputId": "a350383b-b125-47c7-ddb5-46d4110ab779"
      },
      "source": [
        "result"
      ],
      "execution_count": 222,
      "outputs": [
        {
          "output_type": "execute_result",
          "data": {
            "text/plain": [
              "<tf.Tensor: shape=(), dtype=float32, numpy=8.0>"
            ]
          },
          "metadata": {
            "tags": []
          },
          "execution_count": 222
        }
      ]
    },
    {
      "cell_type": "code",
      "metadata": {
        "id": "vUsMy-9u8Ia1"
      },
      "source": [
        "result = tf_cube(2)\n",
        "result = tf_cube(3)\n",
        "result = tf_cube(tf.constant([[1., 2.]])) #New Shape: trace!\n",
        "result = tf_cube(tf.constant([[3., 4.], [5., 6.]])) #New shape: trace!\n",
        "result = tf_cube(tf.constant([[7., 8.], [9., 10.], [11., 12.]])) #no trace"
      ],
      "execution_count": null,
      "outputs": []
    },
    {
      "cell_type": "markdown",
      "metadata": {
        "id": "nzabGfFv8rxv"
      },
      "source": [
        "It is also possible to specify a particular input signature:"
      ]
    },
    {
      "cell_type": "code",
      "metadata": {
        "id": "yUP9SKhm8yd9"
      },
      "source": [
        "@tf.function(input_signature=[tf.TensorSpec([None, 28, 28], tf.float32)])\n",
        "def shrink(images):\n",
        "  print(\"Tracing\", images)\n",
        "  return images[:, ::2, ::2] #drop half the rows and columns"
      ],
      "execution_count": 224,
      "outputs": []
    },
    {
      "cell_type": "code",
      "metadata": {
        "id": "qVBKCEBP9vRW"
      },
      "source": [
        "keras.backend.clear_session()\n",
        "np.random.seed(42)\n",
        "tf.random.set_seed(42)"
      ],
      "execution_count": 225,
      "outputs": []
    },
    {
      "cell_type": "code",
      "metadata": {
        "colab": {
          "base_uri": "https://localhost:8080/"
        },
        "id": "lcrCYp2r91mF",
        "outputId": "69376380-0dc0-4195-9996-0e030cf58cb6"
      },
      "source": [
        "img_batch_1 = tf.random.uniform(shape = [100, 28, 28])\n",
        "img_batch_2 = tf.random.uniform(shape=[50, 28, 28])\n",
        "preprocessed_images = shrink(img_batch_1) #Traces the function\n",
        "preprocessed_images = shrink(img_batch_2) #Reuses the same concrete function"
      ],
      "execution_count": 226,
      "outputs": [
        {
          "output_type": "stream",
          "text": [
            "Tracing Tensor(\"images:0\", shape=(None, 28, 28), dtype=float32)\n"
          ],
          "name": "stdout"
        }
      ]
    },
    {
      "cell_type": "code",
      "metadata": {
        "colab": {
          "base_uri": "https://localhost:8080/"
        },
        "id": "wEkpch---QaH",
        "outputId": "ce409721-5c4a-4f0a-9b59-8520cd7717b5"
      },
      "source": [
        "img_batch_3 = tf.random.uniform(shape=[2, 2, 2])\n",
        "try:\n",
        "  preprocessed_images = shrink(img_batch_3) #rejects unexpected types or shapes\n",
        "except ValueError as ex:\n",
        "  print(ex)"
      ],
      "execution_count": 227,
      "outputs": [
        {
          "output_type": "stream",
          "text": [
            "Python inputs incompatible with input_signature:\n",
            "  inputs: (\n",
            "    tf.Tensor(\n",
            "[[[0.7413678  0.62854624]\n",
            "  [0.01738465 0.3431449 ]]\n",
            "\n",
            " [[0.51063764 0.3777541 ]\n",
            "  [0.07321596 0.02137029]]], shape=(2, 2, 2), dtype=float32))\n",
            "  input_signature: (\n",
            "    TensorSpec(shape=(None, 28, 28), dtype=tf.float32, name=None))\n"
          ],
          "name": "stdout"
        }
      ]
    },
    {
      "cell_type": "markdown",
      "metadata": {
        "id": "v_ZWajj_BF6F"
      },
      "source": [
        "**Using Autograph to Capture Control Flow**\n",
        "\n",
        "A \"static\" for loop using range():"
      ]
    },
    {
      "cell_type": "code",
      "metadata": {
        "id": "3qHxjHjSBXR7"
      },
      "source": [
        "@tf.function\n",
        "def add_10(x):\n",
        "  for i in range(10):\n",
        "    x += 1\n",
        "  return x"
      ],
      "execution_count": 229,
      "outputs": []
    },
    {
      "cell_type": "code",
      "metadata": {
        "colab": {
          "base_uri": "https://localhost:8080/"
        },
        "id": "76abt4SQBhkM",
        "outputId": "0ec139fb-7ac9-47e2-e51e-07ef33e70ac8"
      },
      "source": [
        "add_10(tf.constant(5))"
      ],
      "execution_count": 230,
      "outputs": [
        {
          "output_type": "execute_result",
          "data": {
            "text/plain": [
              "<tf.Tensor: shape=(), dtype=int32, numpy=15>"
            ]
          },
          "metadata": {
            "tags": []
          },
          "execution_count": 230
        }
      ]
    },
    {
      "cell_type": "code",
      "metadata": {
        "colab": {
          "base_uri": "https://localhost:8080/"
        },
        "id": "LvLB3X4nBoxJ",
        "outputId": "4299d3e0-7c79-483c-c227-993f1239535e"
      },
      "source": [
        "add_10.get_concrete_function(tf.constant(5)).graph.get_operations()"
      ],
      "execution_count": 231,
      "outputs": [
        {
          "output_type": "execute_result",
          "data": {
            "text/plain": [
              "[<tf.Operation 'x' type=Placeholder>,\n",
              " <tf.Operation 'add/y' type=Const>,\n",
              " <tf.Operation 'add' type=AddV2>,\n",
              " <tf.Operation 'add_1/y' type=Const>,\n",
              " <tf.Operation 'add_1' type=AddV2>,\n",
              " <tf.Operation 'add_2/y' type=Const>,\n",
              " <tf.Operation 'add_2' type=AddV2>,\n",
              " <tf.Operation 'add_3/y' type=Const>,\n",
              " <tf.Operation 'add_3' type=AddV2>,\n",
              " <tf.Operation 'add_4/y' type=Const>,\n",
              " <tf.Operation 'add_4' type=AddV2>,\n",
              " <tf.Operation 'add_5/y' type=Const>,\n",
              " <tf.Operation 'add_5' type=AddV2>,\n",
              " <tf.Operation 'add_6/y' type=Const>,\n",
              " <tf.Operation 'add_6' type=AddV2>,\n",
              " <tf.Operation 'add_7/y' type=Const>,\n",
              " <tf.Operation 'add_7' type=AddV2>,\n",
              " <tf.Operation 'add_8/y' type=Const>,\n",
              " <tf.Operation 'add_8' type=AddV2>,\n",
              " <tf.Operation 'add_9/y' type=Const>,\n",
              " <tf.Operation 'add_9' type=AddV2>,\n",
              " <tf.Operation 'Identity' type=Identity>]"
            ]
          },
          "metadata": {
            "tags": []
          },
          "execution_count": 231
        }
      ]
    },
    {
      "cell_type": "markdown",
      "metadata": {
        "id": "C53CN3hhBzX0"
      },
      "source": [
        "A \"dynamic\" loop using ```tf.while_loop()```:"
      ]
    },
    {
      "cell_type": "code",
      "metadata": {
        "id": "OLPcYnwvB6G9"
      },
      "source": [
        "@tf.function\n",
        "def add_10(x):\n",
        "  condition = lambda i, x: tf.less(i, 10)\n",
        "  body = lambda i, x: (tf.add(i, 1), tf.add(x, 1))\n",
        "  final_i, final_x = tf.while_loop(condition, body, [tf.constant(0), x])\n",
        "  return final_x"
      ],
      "execution_count": 232,
      "outputs": []
    },
    {
      "cell_type": "code",
      "metadata": {
        "colab": {
          "base_uri": "https://localhost:8080/"
        },
        "id": "AHh1ulzHEB2n",
        "outputId": "78085bb7-c27f-4d29-a354-a5d73396963b"
      },
      "source": [
        "add_10(tf.constant(5))"
      ],
      "execution_count": 233,
      "outputs": [
        {
          "output_type": "execute_result",
          "data": {
            "text/plain": [
              "<tf.Tensor: shape=(), dtype=int32, numpy=15>"
            ]
          },
          "metadata": {
            "tags": []
          },
          "execution_count": 233
        }
      ]
    },
    {
      "cell_type": "code",
      "metadata": {
        "colab": {
          "base_uri": "https://localhost:8080/"
        },
        "id": "DG03U9IDEh8a",
        "outputId": "f95672a0-4c22-4aee-a817-171b2662fa9e"
      },
      "source": [
        "add_10.get_concrete_function(tf.constant(0)).graph.get_operations()"
      ],
      "execution_count": 234,
      "outputs": [
        {
          "output_type": "execute_result",
          "data": {
            "text/plain": [
              "[<tf.Operation 'x' type=Placeholder>,\n",
              " <tf.Operation 'Const' type=Const>,\n",
              " <tf.Operation 'while/maximum_iterations' type=Const>,\n",
              " <tf.Operation 'while/loop_counter' type=Const>,\n",
              " <tf.Operation 'while' type=StatelessWhile>,\n",
              " <tf.Operation 'Identity' type=Identity>]"
            ]
          },
          "metadata": {
            "tags": []
          },
          "execution_count": 234
        }
      ]
    },
    {
      "cell_type": "markdown",
      "metadata": {
        "id": "RBBE66QtE4YR"
      },
      "source": [
        "**Handling Variables and Other Resources in TensorFlow Functions**:"
      ]
    },
    {
      "cell_type": "code",
      "metadata": {
        "id": "k44D8rhOEhil"
      },
      "source": [
        "counter = tf.Variable(0)\n",
        "\n",
        "@tf.function\n",
        "def increment(counter, c=1):\n",
        "  return counter.assign_add(c)"
      ],
      "execution_count": 235,
      "outputs": []
    },
    {
      "cell_type": "code",
      "metadata": {
        "colab": {
          "base_uri": "https://localhost:8080/"
        },
        "id": "lBhA2x4XF0gw",
        "outputId": "f682270b-6a80-4d82-a858-c449bd63d0c5"
      },
      "source": [
        "increment(counter)"
      ],
      "execution_count": 236,
      "outputs": [
        {
          "output_type": "execute_result",
          "data": {
            "text/plain": [
              "<tf.Tensor: shape=(), dtype=int32, numpy=1>"
            ]
          },
          "metadata": {
            "tags": []
          },
          "execution_count": 236
        }
      ]
    },
    {
      "cell_type": "code",
      "metadata": {
        "colab": {
          "base_uri": "https://localhost:8080/"
        },
        "id": "XjUVX1dtF51G",
        "outputId": "a8994a3b-6181-4a62-90c2-9a95779f1500"
      },
      "source": [
        "increment(counter)"
      ],
      "execution_count": 237,
      "outputs": [
        {
          "output_type": "execute_result",
          "data": {
            "text/plain": [
              "<tf.Tensor: shape=(), dtype=int32, numpy=2>"
            ]
          },
          "metadata": {
            "tags": []
          },
          "execution_count": 237
        }
      ]
    },
    {
      "cell_type": "code",
      "metadata": {
        "colab": {
          "base_uri": "https://localhost:8080/"
        },
        "id": "ZzrIK_bQF9Aq",
        "outputId": "bfc7e9be-d730-4e9b-f9cd-b4edec2c55c5"
      },
      "source": [
        "function_def = increment.get_concrete_function(counter).function_def\n",
        "function_def.signature.input_arg[0]"
      ],
      "execution_count": 238,
      "outputs": [
        {
          "output_type": "execute_result",
          "data": {
            "text/plain": [
              "name: \"counter\"\n",
              "type: DT_RESOURCE"
            ]
          },
          "metadata": {
            "tags": []
          },
          "execution_count": 238
        }
      ]
    },
    {
      "cell_type": "code",
      "metadata": {
        "id": "_oLXlzfbGJYD"
      },
      "source": [
        "counter = tf.Variable(0)\n",
        "\n",
        "@tf.function\n",
        "def increment(c=1):\n",
        "  return counter.assign_add(c)"
      ],
      "execution_count": 239,
      "outputs": []
    },
    {
      "cell_type": "code",
      "metadata": {
        "colab": {
          "base_uri": "https://localhost:8080/"
        },
        "id": "7XEEnYEiGT_U",
        "outputId": "808f121d-4766-4d36-a57a-48fa1d69719a"
      },
      "source": [
        "increment()\n",
        "increment()"
      ],
      "execution_count": 240,
      "outputs": [
        {
          "output_type": "execute_result",
          "data": {
            "text/plain": [
              "<tf.Tensor: shape=(), dtype=int32, numpy=2>"
            ]
          },
          "metadata": {
            "tags": []
          },
          "execution_count": 240
        }
      ]
    },
    {
      "cell_type": "code",
      "metadata": {
        "colab": {
          "base_uri": "https://localhost:8080/"
        },
        "id": "OVS_nzWpGYoZ",
        "outputId": "f2714252-a626-4b95-a5e0-e7548c2cc1a0"
      },
      "source": [
        "function_def = increment.get_concrete_function().function_def\n",
        "function_def.signature.input_arg[0]"
      ],
      "execution_count": 241,
      "outputs": [
        {
          "output_type": "execute_result",
          "data": {
            "text/plain": [
              "name: \"assignaddvariableop_resource\"\n",
              "type: DT_RESOURCE"
            ]
          },
          "metadata": {
            "tags": []
          },
          "execution_count": 241
        }
      ]
    },
    {
      "cell_type": "code",
      "metadata": {
        "id": "DyEsU8XHGnyP"
      },
      "source": [
        "class Counter:\n",
        "  def __init__(self):\n",
        "    self.counter = tf.Variable(0)\n",
        "\n",
        "  @tf.function\n",
        "  def increment(self, c=1):\n",
        "    return self.counter.assign_add(c)"
      ],
      "execution_count": 242,
      "outputs": []
    },
    {
      "cell_type": "code",
      "metadata": {
        "colab": {
          "base_uri": "https://localhost:8080/"
        },
        "id": "yHayg7cFG2RT",
        "outputId": "c6e922b6-9158-4642-90a3-0cea942fbc90"
      },
      "source": [
        "c = Counter()\n",
        "c.increment()\n",
        "c.increment()"
      ],
      "execution_count": 243,
      "outputs": [
        {
          "output_type": "execute_result",
          "data": {
            "text/plain": [
              "<tf.Tensor: shape=(), dtype=int32, numpy=2>"
            ]
          },
          "metadata": {
            "tags": []
          },
          "execution_count": 243
        }
      ]
    },
    {
      "cell_type": "markdown",
      "metadata": {
        "id": "tvDTYkBlG9WH"
      },
      "source": [
        "# **Using TensorFlow Functions with tf.keras**\n",
        "\n",
        "By default, ```tf.keras``` will automatically convert your custom code into TF Functions, no need to use ```tf.function()```:"
      ]
    },
    {
      "cell_type": "code",
      "metadata": {
        "id": "JPg7cUg6HJPl"
      },
      "source": [
        "#Custom loss function\n",
        "def my_mse(y_true, y_pred):\n",
        "  print(\"Tracing loss my_mse()\")\n",
        "  return tf.reduce_mean(tf.square(y_pred - y_true))"
      ],
      "execution_count": 244,
      "outputs": []
    },
    {
      "cell_type": "code",
      "metadata": {
        "id": "44AfHZtvHWRF"
      },
      "source": [
        "#Custom metric function\n",
        "def my_mae(y_true, y_pred):\n",
        "  print(\"Tracing metric my_mae()\")\n",
        "  return tf.reduce_mean(tf.abs(y_pred - y_true))"
      ],
      "execution_count": 250,
      "outputs": []
    },
    {
      "cell_type": "code",
      "metadata": {
        "id": "HQwNPMe8Jchw"
      },
      "source": [
        "#Custom Layer\n",
        "class MyDense(keras.layers.Layer):\n",
        "  def __init__(self, units, activation=None, **kwargs):\n",
        "    super().__init__(**kwargs)\n",
        "    self.units = units\n",
        "    self.activation = keras.activations.get(activation)\n",
        "\n",
        "  def build(self, input_shape):\n",
        "    self.kernel = self.add_weight(name = 'kernel',\n",
        "                                  shape = (input_shape[1], self.units),\n",
        "                                  initializer='uniform',\n",
        "                                  trainable=True)\n",
        "    self.biases = self.add_weight(name = 'bias', shape=(self.units),\n",
        "                                  initializer='zeros',\n",
        "                                  trainable=True)\n",
        "    super().build(input_shape)\n",
        "\n",
        "  def call(self, X):\n",
        "    print(\"Tracing MyDense.call()\")\n",
        "    return self.activation(X @ self.kernel + self.biases)"
      ],
      "execution_count": 245,
      "outputs": []
    },
    {
      "cell_type": "code",
      "metadata": {
        "id": "WU2x1ZDFKfOO"
      },
      "source": [
        "keras.backend.clear_session()\n",
        "np.random.seed(42)\n",
        "tf.random.set_seed(42)"
      ],
      "execution_count": 246,
      "outputs": []
    },
    {
      "cell_type": "code",
      "metadata": {
        "id": "0IQSKgr4KnmT"
      },
      "source": [
        "#Custom Model\n",
        "class MyModel(keras.models.Model):\n",
        "  def __init__(self, **kwargs):\n",
        "    super().__init__(**kwargs)\n",
        "    self.hidden1 = MyDense(30, activation=\"relu\")\n",
        "    self.hidden2 = MyDense(30, activation=\"relu\")\n",
        "    self.output_ = MyDense(1)\n",
        "\n",
        "  def call(self, input):\n",
        "    print(\"Tracing MyModel.call()\")\n",
        "    hidden1 = self.hidden1(input)\n",
        "    hidden2 = self.hidden2(hidden1)\n",
        "    concat = keras.layers.concatenate([input, hidden2])\n",
        "    output = self.output_(concat)\n",
        "    return outputs\n",
        "\n",
        "model = MyModel()"
      ],
      "execution_count": 247,
      "outputs": []
    },
    {
      "cell_type": "code",
      "metadata": {
        "id": "hJrj6fw4LXN_"
      },
      "source": [
        "model.compile(loss=my_mse, optimizer=\"nadam\", metrics=[my_mae])"
      ],
      "execution_count": 251,
      "outputs": []
    },
    {
      "cell_type": "code",
      "metadata": {
        "id": "GnDhC1MbLrR8"
      },
      "source": [
        "model.fit(X_train_scaled, y_train, epochs=2,\n",
        "          validation_data=(X_valid_scaled, y_valid))\n",
        "model.evaluate(X_test_scaled, y_test)"
      ],
      "execution_count": null,
      "outputs": []
    },
    {
      "cell_type": "code",
      "metadata": {
        "id": "tFEM6g-UMQt8"
      },
      "source": [
        "keras.backend.clear_session()\n",
        "np.random.seed(42)\n",
        "tf.random.set_seed(42)"
      ],
      "execution_count": 254,
      "outputs": []
    },
    {
      "cell_type": "code",
      "metadata": {
        "id": "KftDKnwzMYTP"
      },
      "source": [
        "model = MyModel(dynamic = True)"
      ],
      "execution_count": 255,
      "outputs": []
    },
    {
      "cell_type": "code",
      "metadata": {
        "id": "gWkfkDKqMciJ"
      },
      "source": [
        "model.compile(loss=my_mse, optimizer=\"nadam\", metrics=[my_mae])"
      ],
      "execution_count": 256,
      "outputs": []
    },
    {
      "cell_type": "markdown",
      "metadata": {
        "id": "82xIc8NkMkhl"
      },
      "source": [
        "Not the custom code will be called at each iteration. Let's fit, validate and evaluate with tiny datasets to avoid getting too much output:"
      ]
    },
    {
      "cell_type": "code",
      "metadata": {
        "id": "jZqR_UoMMzEi"
      },
      "source": [
        "model.fit(X_train_scaled[:64], y_train[:64], epochs = 1, \n",
        "          validation_data = (X_valid_scaled[:64], y_valid[:64]), verbose=0)\n",
        "model.evaluate(X_test_scaled[:64], y_test[:64], verbose = 0)"
      ],
      "execution_count": null,
      "outputs": []
    },
    {
      "cell_type": "code",
      "metadata": {
        "id": "-xSg1AAQNMaN"
      },
      "source": [
        ""
      ],
      "execution_count": null,
      "outputs": []
    },
    {
      "cell_type": "markdown",
      "metadata": {
        "id": "bhtc-06CNWMS"
      },
      "source": [
        "We started with a brief overview of TensorFlow,\n",
        "then we looked at TensorFlow’s low-level API, including tensors, operations, variables,\n",
        "and special data structures. We then used these tools to customize almost every\n",
        "component in ```tf.keras```. Finally, we looked at how TF Functions can boost performance,\n",
        "how graphs are generated using AutoGraph and tracing, and what rules to\n",
        "follow when you write TF Functions."
      ]
    },
    {
      "cell_type": "code",
      "metadata": {
        "id": "mAeVJ5XrNehX"
      },
      "source": [
        ""
      ],
      "execution_count": null,
      "outputs": []
    }
  ]
}